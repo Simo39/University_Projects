{
 "cells": [
  {
   "cell_type": "markdown",
   "metadata": {},
   "source": [
    "# Neural Networks for Classification, and Clustering\n",
    "\n",
    "In this notebook we are going to explore the use of Neural Networks for image classification. We are going to use a dataset of small images of clothes and accessories, the Fashion MNIST. You can find more information regarding the dataset here: https://pravarmahajan.github.io/fashion/\n",
    "\n",
    "Each instance in the dataset consist of an image, in a format similar to the digit images you have seen in the previous homework, and a label. The labels correspond to the type of clothing, as follows:\n",
    "\n",
    "| Label | Description |\n",
    "| --- | --- |\n",
    "| 0 | T-shirt/top |\n",
    "| 1 | Trouser |\n",
    "| 2 | Pullover |\n",
    "| 3 | Dress |\n",
    "| 4 | Coat |\n",
    "| 5 | Sandal |\n",
    "| 6 | Shirt |\n",
    "| 7 | Sneaker |\n",
    "| 8 | Bag |\n",
    "| 9 | Ankle boot |"
   ]
  },
  {
   "cell_type": "markdown",
   "metadata": {},
   "source": [
    "Let's first load the required packages."
   ]
  },
  {
   "cell_type": "code",
   "execution_count": 1,
   "metadata": {},
   "outputs": [],
   "source": [
    "#load the required packages\n",
    "\n",
    "%matplotlib inline  \n",
    "\n",
    "import numpy as np\n",
    "import scipy as sp\n",
    "import matplotlib.pyplot as plt\n",
    "\n",
    "import sklearn\n",
    "from sklearn.neural_network import MLPClassifier\n",
    "from sklearn.model_selection import GridSearchCV\n",
    "\n",
    "#for display purposes\n",
    "import pandas"
   ]
  },
  {
   "cell_type": "markdown",
   "metadata": {},
   "source": [
    "The following block is a Timer class used for comparisation purposes later on"
   ]
  },
  {
   "cell_type": "code",
   "execution_count": 2,
   "metadata": {},
   "outputs": [],
   "source": [
    "#for comparisation purposes\n",
    "import time as TIME\n",
    "\n",
    "class Timer:\n",
    "        \n",
    "    def __init__(self):\n",
    "        self.first = 0\n",
    "        self.second = self.first\n",
    "    \n",
    "    def start(self):\n",
    "        self.first = TIME.time()\n",
    "        \n",
    "    def stop(self):\n",
    "        self.second = TIME.time()\n",
    "        \n",
    "    def passed_time(self):\n",
    "        time =  self.second - self.first\n",
    "        minutes = int((time)/60)\n",
    "        seconds = round((time)%60, 3)\n",
    "        return {'min' : minutes, 'sec': seconds}\n",
    "    \n",
    "    def __str__(self):\n",
    "        time = self.passed_time()\n",
    "        return str(time['min']) + \"min \" + str(time['sec']) + \"sec.\"\n",
    "    \n",
    "timer = Timer()"
   ]
  },
  {
   "cell_type": "markdown",
   "metadata": {},
   "source": [
    "The following is a function to load the data, that we are going to use later in the notebook."
   ]
  },
  {
   "cell_type": "code",
   "execution_count": 3,
   "metadata": {},
   "outputs": [],
   "source": [
    "# helper function to load Fashion MNIST dataset from disk\n",
    "def load_fashion_mnist(path, kind='train'):\n",
    "    import os\n",
    "    import gzip\n",
    "    import numpy as np\n",
    "    labels_path = os.path.join(path, '%s-labels-idx1-ubyte.gz' % kind)\n",
    "    images_path = os.path.join(path, '%s-images-idx3-ubyte.gz' % kind)\n",
    "    with gzip.open(labels_path, 'rb') as lbpath:\n",
    "        labels = np.frombuffer(lbpath.read(), dtype=np.uint8,offset=8)\n",
    "    with gzip.open(images_path, 'rb') as imgpath:\n",
    "        images = np.frombuffer(imgpath.read(), dtype=np.uint8,offset=16).reshape(len(labels), 784)\n",
    "    return images, labels"
   ]
  },
  {
   "cell_type": "markdown",
   "metadata": {},
   "source": [
    "## TO DO 0\n",
    "Place your ID (\"numero di matricola\") that will be used as seed for random generator. Change the ID number in case you observe unexpected behaviours and want to test if this is due to randomization (e.g., train/test split). If you change the ID number explain why you have change it."
   ]
  },
  {
   "cell_type": "code",
   "execution_count": 4,
   "metadata": {},
   "outputs": [],
   "source": [
    "ID = 2026826 # COMPLETE\n",
    "np.random.seed(ID)"
   ]
  },
  {
   "cell_type": "markdown",
   "metadata": {},
   "source": [
    "Now we load the dataset using the function above."
   ]
  },
  {
   "cell_type": "code",
   "execution_count": 5,
   "metadata": {},
   "outputs": [],
   "source": [
    "#load the fashion MNIST dataset and normalize the features so that each value is in [0,1]\n",
    "X, y = load_fashion_mnist(\"data\")\n",
    "# rescale the data\n",
    "X = X / 255.0"
   ]
  },
  {
   "cell_type": "markdown",
   "metadata": {},
   "source": [
    "Now we split the data into training and test. Make sure that each label is present at least 10 times\n",
    "in the training set."
   ]
  },
  {
   "cell_type": "code",
   "execution_count": 6,
   "metadata": {},
   "outputs": [
    {
     "name": "stdout",
     "output_type": "stream",
     "text": [
      "Labels in training dataset:  [0 1 2 3 4 5 6 7 8 9]\n",
      "Frequencies in training dataset:  [49 47 57 44 49 52 51 59 49 43]\n"
     ]
    }
   ],
   "source": [
    "#random permute the data and split into training and test taking the first 500\n",
    "#data samples as training and the rest as test\n",
    "permutation = np.random.permutation(X.shape[0])\n",
    "\n",
    "X = X[permutation]\n",
    "y = y[permutation]\n",
    "\n",
    "m_training = 500\n",
    "\n",
    "X_train, X_test = X[:m_training], X[m_training:]\n",
    "y_train, y_test = y[:m_training], y[m_training:]\n",
    "\n",
    "labels, freqs = np.unique(y_train, return_counts=True)\n",
    "print(\"Labels in training dataset: \", labels)\n",
    "print(\"Frequencies in training dataset: \", freqs)"
   ]
  },
  {
   "cell_type": "markdown",
   "metadata": {},
   "source": [
    "#### STUDENT NOTES\n",
    "In the following block checks if there are at least 10 elements for each label. If not, it will be added permutations until the condition is satisfied."
   ]
  },
  {
   "cell_type": "code",
   "execution_count": 7,
   "metadata": {},
   "outputs": [
    {
     "data": {
      "text/plain": [
       "(array([0, 1, 2, 3, 4, 5, 6, 7, 8, 9], dtype=uint8),\n",
       " array([49, 47, 57, 44, 49, 52, 51, 59, 49, 43], dtype=int64))"
      ]
     },
     "execution_count": 7,
     "metadata": {},
     "output_type": "execute_result"
    }
   ],
   "source": [
    "labels, labels_qty = np.unique(y_train, return_counts = True)\n",
    "\n",
    "while(not(np.all(labels_qty >= 10))):\n",
    "    permutation = np.random.permutation(X.shape[0])\n",
    "\n",
    "    X = X[permutation]\n",
    "    y = y[permutation]\n",
    "\n",
    "    m_training = 500\n",
    "\n",
    "    X_train, X_test = X[:m_training], X[m_training:]\n",
    "    y_train, y_test = y[:m_training], y[m_training:]\n",
    "    \n",
    "    labels, labels_qty = np.unique(y_train, return_counts = True)\n",
    " \n",
    "np.unique(y_train, return_counts = True)  "
   ]
  },
  {
   "cell_type": "markdown",
   "metadata": {},
   "source": [
    "The following function plots an image and the corresponding label, to be used to inspect the data when needed."
   ]
  },
  {
   "cell_type": "code",
   "execution_count": 8,
   "metadata": {},
   "outputs": [],
   "source": [
    "#function for plotting a image and printing the corresponding label\n",
    "def plot_input(X_matrix, labels, index):\n",
    "    print(\"INPUT:\")\n",
    "    plt.imshow(\n",
    "        X_matrix[index].reshape(28,28),\n",
    "        cmap          = plt.cm.gray_r,\n",
    "        interpolation = \"nearest\"\n",
    "    )\n",
    "    plt.show()\n",
    "    print(\"LABEL: %i\"%labels[index])\n",
    "    return"
   ]
  },
  {
   "cell_type": "markdown",
   "metadata": {},
   "source": [
    "Now let's test the function above and check few images."
   ]
  },
  {
   "cell_type": "code",
   "execution_count": 9,
   "metadata": {},
   "outputs": [
    {
     "name": "stdout",
     "output_type": "stream",
     "text": [
      "INPUT:\n"
     ]
    },
    {
     "data": {
      "image/png": "[encoded data removed]",
      "text/plain": [
       "<Figure size 432x288 with 1 Axes>"
      ]
     },
     "metadata": {
      "needs_background": "light"
     },
     "output_type": "display_data"
    },
    {
     "name": "stdout",
     "output_type": "stream",
     "text": [
      "LABEL: 7\n",
      "INPUT:\n"
     ]
    },
    {
     "data": {
      "image/png": "[encoded data removed]",
      "text/plain": [
       "<Figure size 432x288 with 1 Axes>"
      ]
     },
     "metadata": {
      "needs_background": "light"
     },
     "output_type": "display_data"
    },
    {
     "name": "stdout",
     "output_type": "stream",
     "text": [
      "LABEL: 5\n",
      "INPUT:\n"
     ]
    },
    {
     "data": {
      "image/png": "[encoded data removed]",
      "text/plain": [
       "<Figure size 432x288 with 1 Axes>"
      ]
     },
     "metadata": {
      "needs_background": "light"
     },
     "output_type": "display_data"
    },
    {
     "name": "stdout",
     "output_type": "stream",
     "text": [
      "LABEL: 5\n"
     ]
    }
   ],
   "source": [
    "#let's try the plotting function\n",
    "plot_input(X_train,y_train,10)\n",
    "plot_input(X_test,y_test,50)\n",
    "plot_input(X_test,y_test,300)"
   ]
  },
  {
   "cell_type": "markdown",
   "metadata": {},
   "source": [
    "## TO DO 1\n",
    "\n",
    "Now use a (feed-forward) Neural Network for prediction. Use the multi-layer perceptron (MLP) classifier MLPClassifier(...) in scikit-learn, with the following parameters: max_iter=300, alpha=1e-4, solver='sgd', tol=1e-4, learning_rate_init=.1, random_state=ID (this last parameter ensures the run is the same even if you run it more than once). The alpha parameter is the regularization parameter for L2 regularization that is used by the MLP in sklearn.\n",
    "\n",
    "Then, using the default activation function, pick four or five architectures to consider, with different numbers of hidden layers and different sizes. It is not necessary to create huge neural networks, you can limit to 3 layers and, for each layer, its maximum size can be of 100. You can evaluate the architectures you chose using the GridSearchCV with a 5-fold cross-validation, and use the results to pick the best architecture. The code below provides some architectures you can use, but you can choose other ones if you prefer.\n"
   ]
  },
  {
   "cell_type": "code",
   "execution_count": 10,
   "metadata": {
    "scrolled": false
   },
   "outputs": [
    {
     "name": "stderr",
     "output_type": "stream",
     "text": [
      "C:\\ProgramData\\Anaconda3\\lib\\site-packages\\sklearn\\neural_network\\_multilayer_perceptron.py:614: ConvergenceWarning: Stochastic Optimizer: Maximum iterations (300) reached and the optimization hasn't converged yet.\n",
      "  warnings.warn(\n"
     ]
    },
    {
     "name": "stdout",
     "output_type": "stream",
     "text": [
      "RESULTS FOR NN\n",
      "\n",
      "Best parameters set found:\n",
      "{'hidden_layer_sizes': (100,)}\n",
      "Score with best parameters:\n",
      "0.766\n",
      "\n",
      "All scores on the grid:\n"
     ]
    },
    {
     "data": {
      "text/html": [
       "<div>\n",
       "<style scoped>\n",
       "    .dataframe tbody tr th:only-of-type {\n",
       "        vertical-align: middle;\n",
       "    }\n",
       "\n",
       "    .dataframe tbody tr th {\n",
       "        vertical-align: top;\n",
       "    }\n",
       "\n",
       "    .dataframe thead th {\n",
       "        text-align: right;\n",
       "    }\n",
       "</style>\n",
       "<table border=\"1\" class=\"dataframe\">\n",
       "  <thead>\n",
       "    <tr style=\"text-align: right;\">\n",
       "      <th></th>\n",
       "      <th>0</th>\n",
       "      <th>1</th>\n",
       "      <th>2</th>\n",
       "      <th>3</th>\n",
       "      <th>4</th>\n",
       "      <th>5</th>\n",
       "      <th>6</th>\n",
       "      <th>7</th>\n",
       "      <th>8</th>\n",
       "    </tr>\n",
       "  </thead>\n",
       "  <tbody>\n",
       "    <tr>\n",
       "      <th>params</th>\n",
       "      <td>(10,)</td>\n",
       "      <td>(50,)</td>\n",
       "      <td>(100,)</td>\n",
       "      <td>(10, 10)</td>\n",
       "      <td>(50, 50)</td>\n",
       "      <td>(100, 100)</td>\n",
       "      <td>(10, 10, 10)</td>\n",
       "      <td>(50, 50, 50)</td>\n",
       "      <td>(100, 100, 100)</td>\n",
       "    </tr>\n",
       "    <tr>\n",
       "      <th>score</th>\n",
       "      <td>0.718</td>\n",
       "      <td>0.76</td>\n",
       "      <td>0.766</td>\n",
       "      <td>0.58</td>\n",
       "      <td>0.744</td>\n",
       "      <td>0.754</td>\n",
       "      <td>0.356</td>\n",
       "      <td>0.602</td>\n",
       "      <td>0.656</td>\n",
       "    </tr>\n",
       "  </tbody>\n",
       "</table>\n",
       "</div>"
      ],
      "text/plain": [
       "            0      1       2         3         4           5             6  \\\n",
       "params  (10,)  (50,)  (100,)  (10, 10)  (50, 50)  (100, 100)  (10, 10, 10)   \n",
       "score   0.718   0.76   0.766      0.58     0.744       0.754         0.356   \n",
       "\n",
       "                   7                8  \n",
       "params  (50, 50, 50)  (100, 100, 100)  \n",
       "score          0.602            0.656  "
      ]
     },
     "metadata": {},
     "output_type": "display_data"
    }
   ],
   "source": [
    "#MLPclassifier requires in input the parameter hidden_layer_sizes, that is a tuple specifying the number of \n",
    "#neurons in the hidden layers; for example: (10,) means that there is only 1 hidden layer with 10 neurons; \n",
    "#(10,50) means that there are 2 hidden layers, the first with 10 neurons, the second with 50 neurons\n",
    "\n",
    "#these are examples of possible architectures you can test, but feel free to use different architectures! \n",
    "hl_parameters = {'hidden_layer_sizes': [(10,), (50,), (100,), \n",
    "                                        (10,10,), (50,50,), (100,100,),\n",
    "                                        (10,10,10,), (50,50,50,), (100,100,100,)]}\n",
    "\n",
    "mlp_cv = MLPClassifier(max_iter=300,\n",
    "                       alpha=1e-4,\n",
    "                       solver='sgd',\n",
    "                       tol=1e-4,\n",
    "                       learning_rate_init=.1, \n",
    "                       random_state=ID) #ADD YOUR CODE\n",
    "\n",
    "mlp_cv = GridSearchCV(mlp_cv, hl_parameters).fit(X_train, y_train)\n",
    "\n",
    "print ('RESULTS FOR NN\\n')\n",
    "\n",
    "print(\"Best parameters set found:\")\n",
    "# ADD CODE\n",
    "print(mlp_cv.best_params_)\n",
    "\n",
    "print(\"Score with best parameters:\")\n",
    "# ADD CODE\n",
    "print(mlp_cv.best_score_)\n",
    "\n",
    "print(\"\\nAll scores on the grid:\")\n",
    "# ADD CODE\n",
    "scores = mlp_cv.cv_results_['mean_test_score']\n",
    "params = hl_parameters['hidden_layer_sizes']\n",
    "results = [{'params' : value, 'score' : scores[index]} for index, value in enumerate(params)]\n",
    "display(pandas.DataFrame(results).T)"
   ]
  },
  {
   "cell_type": "markdown",
   "metadata": {},
   "source": [
    "## TO DO 2\n",
    "\n",
    "What do you observe for different architectures and their scores? How do the number of layers and their sizes affect the performances?"
   ]
  },
  {
   "cell_type": "markdown",
   "metadata": {},
   "source": [
    "#### ANSWER\n",
    "\n",
    "*For the cross valdation: for each depth set, it has been added an 100 nodes hidden layer (e.g. depth=2 set, two 100 nodes hidden layers added) and it has been added a set of hidden layers of depth=3.<br>\n",
    "This adding has been done to add more results and have a better representation of the NN behaviour with the increasing depth and size of the hidden layers.*\n",
    "\n",
    "Among the depth set, we observe that the scores improves with the increasing of the number of nodes/neurons, but this scores tends to converge. We also observe that increasing the number of layers make the performances worse.\n",
    "To conclude, the best result obtained is with the NN with 1 hidden layer and 100 nodes with a score of 76.6%, but at the same time this score si quite similar to the the NN with 1 hidden layer and 50 nodes (there is a difference of only 6%); therefore in a real world application the best archituecture it might be the NN with 50 nodes because it requires less computation time."
   ]
  },
  {
   "cell_type": "markdown",
   "metadata": {},
   "source": [
    "## TO DO 3\n",
    "\n",
    "Now get training and test error (according to the initial split) for a NN with best parameters chosen from the cross-validation above (and learning the NN weights from the entire training set). Use verbose=True\n",
    "in input so to see how loss changes in iterations. (Note that the loss used by the MLPclassifier may be different from the 0-1 loss, also called *accuracy*.)"
   ]
  },
  {
   "cell_type": "code",
   "execution_count": 11,
   "metadata": {},
   "outputs": [
    {
     "name": "stdout",
     "output_type": "stream",
     "text": [
      "\n",
      "RESULTS FOR BEST NN\n",
      "\n",
      "Best NN training error: 0.000000\n",
      "Best NN test error: 0.211059\n"
     ]
    }
   ],
   "source": [
    "#get training and test error for the best NN model from CV\n",
    "\n",
    "mlp = mlp_cv.best_estimator_.fit(X_train, y_train) #ADD YOUR CODE\n",
    "\n",
    "training_error = 1 - mlp.score(X_train, y_train) #ADD YOUR CODE\n",
    "\n",
    "test_error = 1 - mlp.score(X_test, y_test) #ADD YOUR CODE\n",
    "\n",
    "print ('\\nRESULTS FOR BEST NN\\n')\n",
    "\n",
    "print (\"Best NN training error: %f\" % training_error)\n",
    "print (\"Best NN test error: %f\" % test_error)"
   ]
  },
  {
   "cell_type": "markdown",
   "metadata": {},
   "source": [
    "## More data \n",
    "Now let's do the same but using 10000 (or less if it takes too long on your machine) data points for training. Use the same NN architectures as before, but you can try more if you want!"
   ]
  },
  {
   "cell_type": "code",
   "execution_count": 12,
   "metadata": {},
   "outputs": [
    {
     "name": "stdout",
     "output_type": "stream",
     "text": [
      "Labels and frequencies in training dataset: \n"
     ]
    },
    {
     "data": {
      "text/plain": [
       "(array([0, 1, 2, 3, 4, 5, 6, 7, 8, 9], dtype=uint8),\n",
       " array([ 990, 1002, 1059,  984, 1021, 1005,  997, 1012,  968,  962],\n",
       "       dtype=int64))"
      ]
     },
     "execution_count": 12,
     "metadata": {},
     "output_type": "execute_result"
    }
   ],
   "source": [
    "X = X[permutation]\n",
    "y = y[permutation]\n",
    "\n",
    "m_training = 10000\n",
    "\n",
    "X_train, X_test = X[:m_training], X[m_training:]\n",
    "y_train, y_test = y[:m_training], y[m_training:]\n",
    "\n",
    "print(\"Labels and frequencies in training dataset: \")\n",
    "np.unique(y_train, return_counts=True)"
   ]
  },
  {
   "cell_type": "markdown",
   "metadata": {},
   "source": [
    "## TO DO 4\n",
    "\n",
    "Now train the NNs with the added data points. Feel free to try more different architectures than before if you want, or less if it takes too much time. You can use 'verbose=True' so have an idea of how long it takes to run 1 iteration (eventually reduce also the number of iterations to 50)."
   ]
  },
  {
   "cell_type": "code",
   "execution_count": 13,
   "metadata": {},
   "outputs": [
    {
     "name": "stdout",
     "output_type": "stream",
     "text": [
      "\n",
      "CV total time:  9min 47.964sec.\n",
      "\n",
      "RESULTS FOR NN\n",
      "\n",
      "Best parameters set found:\n",
      "{'hidden_layer_sizes': (100,)}\n",
      "Score with best parameters:\n",
      "0.8576\n",
      "\n",
      "All scores on the grid:\n"
     ]
    },
    {
     "data": {
      "text/html": [
       "<div>\n",
       "<style scoped>\n",
       "    .dataframe tbody tr th:only-of-type {\n",
       "        vertical-align: middle;\n",
       "    }\n",
       "\n",
       "    .dataframe tbody tr th {\n",
       "        vertical-align: top;\n",
       "    }\n",
       "\n",
       "    .dataframe thead th {\n",
       "        text-align: right;\n",
       "    }\n",
       "</style>\n",
       "<table border=\"1\" class=\"dataframe\">\n",
       "  <thead>\n",
       "    <tr style=\"text-align: right;\">\n",
       "      <th></th>\n",
       "      <th>0</th>\n",
       "      <th>1</th>\n",
       "      <th>2</th>\n",
       "      <th>3</th>\n",
       "      <th>4</th>\n",
       "    </tr>\n",
       "  </thead>\n",
       "  <tbody>\n",
       "    <tr>\n",
       "      <th>params</th>\n",
       "      <td>(50,)</td>\n",
       "      <td>(100,)</td>\n",
       "      <td>(50, 50)</td>\n",
       "      <td>(100, 100)</td>\n",
       "      <td>(50, 50, 50)</td>\n",
       "    </tr>\n",
       "    <tr>\n",
       "      <th>score</th>\n",
       "      <td>0.8383</td>\n",
       "      <td>0.8576</td>\n",
       "      <td>0.8476</td>\n",
       "      <td>0.8532</td>\n",
       "      <td>0.8453</td>\n",
       "    </tr>\n",
       "  </tbody>\n",
       "</table>\n",
       "</div>"
      ],
      "text/plain": [
       "             0       1         2           3             4\n",
       "params   (50,)  (100,)  (50, 50)  (100, 100)  (50, 50, 50)\n",
       "score   0.8383  0.8576    0.8476      0.8532        0.8453"
      ]
     },
     "metadata": {},
     "output_type": "display_data"
    }
   ],
   "source": [
    "#for NN we try the same architectures as before\n",
    "hl_parameters = {'hidden_layer_sizes': [(50,), (100,),\n",
    "                                        (50,50,), (100,100),\n",
    "                                        (50,50,50,)]}\n",
    "\n",
    "mlp_large_cv = MLPClassifier(max_iter=300,\n",
    "                             alpha=1e-4,\n",
    "                             solver='sgd',\n",
    "                             tol=1e-4,\n",
    "                             learning_rate_init=.1,\n",
    "                             #verbose=True,\n",
    "                             random_state=ID) #ADD YOUR CODE\n",
    "\n",
    "timer.start()\n",
    "mlp_large_cv = GridSearchCV(mlp_large_cv, hl_parameters).fit(X_train, y_train)\n",
    "timer.stop()\n",
    "print(\"\\nCV total time: \", timer)\n",
    "\n",
    "print ('\\nRESULTS FOR NN\\n')\n",
    "\n",
    "print(\"Best parameters set found:\")\n",
    "# ADD CODE\n",
    "print(mlp_large_cv.best_params_)\n",
    "\n",
    "print(\"Score with best parameters:\")\n",
    "# ADD CODE\n",
    "print(mlp_large_cv.best_score_)\n",
    "\n",
    "print(\"\\nAll scores on the grid:\")\n",
    "# ADD CODE\n",
    "scores = mlp_large_cv.cv_results_['mean_test_score']\n",
    "params = hl_parameters['hidden_layer_sizes']\n",
    "results = [{'params' : value, 'score' : scores[index]} for index, value in enumerate(params)]\n",
    "display(pandas.DataFrame(results).T)"
   ]
  },
  {
   "cell_type": "markdown",
   "metadata": {},
   "source": [
    "## TO DO 5\n",
    "Describe your architecture choices and the results you observe with respect to the architectures you used."
   ]
  },
  {
   "cell_type": "markdown",
   "metadata": {},
   "source": [
    "#### ANSWER\n",
    "\n",
    "The cross validation is done with the following considerations:\n",
    "1. CV is done without considering NNs with the hidden layers of 10 nodes because they produce poor results and to save computation time;\n",
    "2. the NN with depth 3 and 100 nodes for each hidden layer is not used for the CV to save computation time and because, due to the considerations previously done, we already know that it will not improve its score;\n",
    "3. it's kept the [50, 50, 50,] NN for a comparisation reason that will be seen later on.\n",
    "\n",
    "*Unfortunately, in my PC, doing the cross validations with the same NN of before takes more than 10 minutes, instead with this kind of architecture takes 7 minutes.*\n",
    "\n",
    "As before with 500 samples, the scores are getting worse with the depth of the architectures, but they are improving with increasing number of nodes on the same depth and the improving looks like it tends to converge. And as before we have the best result withe the NN with depth=1 and 100 nodes in the hidden layer.<br>\n",
    "However, this time there is an unexpected small improving in the [50, 50,] NN in respect with the [50,] NN, but the improving is still not enough to be eligible as the best score. Anyway with the [50, 50, 50,] NN the score starts to decrese as seen previously.\n",
    "\n",
    "This unexpected behaviour might change the considerations done before regarding a real world applications, but if we consider the computation time and the fact that the score improving is not that much in the [100,] and [50,50,] NNs than the [50,] NN, then the best choice is still the [50,] NN."
   ]
  },
  {
   "cell_type": "markdown",
   "metadata": {},
   "source": [
    "## TO DO 6\n",
    "\n",
    "Get the train and test error for the best NN you obtained with 10000 points. This time you can run for 100 iterations if you cannot run for 300 iterations. \n"
   ]
  },
  {
   "cell_type": "code",
   "execution_count": 14,
   "metadata": {},
   "outputs": [
    {
     "name": "stdout",
     "output_type": "stream",
     "text": [
      "Training time:  0min 33.775sec.\n",
      "X_test data prediction time:  0min 0.434sec.\n",
      "\n",
      "RESULTS FOR BEST NN\n",
      "\n",
      "Best NN training error: 0.003500\n",
      "Best NN test error: 0.141900\n"
     ]
    }
   ],
   "source": [
    "#get training and test error for the best NN model from CV\n",
    "\n",
    "timer.start()\n",
    "best_mlp_large = mlp_large_cv.best_estimator_.fit(X_train,y_train)#ADD YOUR CODE\n",
    "timer.stop()\n",
    "print('Training time: ',timer)\n",
    "\n",
    "training_error = 1 - best_mlp_large.score(X_train, y_train) #ADD YOUR CODE\n",
    "\n",
    "timer.start()\n",
    "test_error = 1 - best_mlp_large.score(X_test, y_test) #ADD YOUR CODE\n",
    "timer.stop()\n",
    "print('X_test data prediction time: ', timer)\n",
    "\n",
    "print ('\\nRESULTS FOR BEST NN\\n')\n",
    "\n",
    "print (\"Best NN training error: %f\" % training_error)\n",
    "print (\"Best NN test error: %f\" % test_error)"
   ]
  },
  {
   "cell_type": "markdown",
   "metadata": {},
   "source": [
    "## TO DO 7\n",
    "\n",
    "Compare the train and test error you got with a large number of samples with the best one you obtained with only 500 data points. Are the architectures the same or do they differ? What about the errors you get?"
   ]
  },
  {
   "cell_type": "markdown",
   "metadata": {},
   "source": [
    "#### ANSWER\n",
    "\n",
    "| #Samples | Architecture | Training error | Test Error |\n",
    "|---| --- | --- | --- |\n",
    "| 500 | [100,] | 0.00% | 21.11% |\n",
    "| 10000 | [100,] | 0.35% | 14.19% |\n",
    "\n",
    "The CVs have found out that best architecture for both tests is the same, that is the a NN with 1 hidden layer and 100 nodes in it.\n",
    "\n",
    "*From now on the NN trained with 10000 samples is called 10000-NN and the other one is called 500-NN*\n",
    "\n",
    "The 10000-NN has a worse training error than the 500-N, which is zero; this is due to the fact that is harder to correctly classify the a big data set than a smaller one.\n",
    "But, the 10000-NN has a better result with the test error (around 6% of difference) than the 500-NN this is because, as we can expect, the model is trained with more data and with more data there is an higher possibility of better representation of the real world, therefore it can be learned a more realistic model."
   ]
  },
  {
   "cell_type": "markdown",
   "metadata": {},
   "source": [
    "## TO DO 8\n",
    "\n",
    "Plot an image that was missclassified by NN with m=500 training data points and it is now instead correctly classified by NN with m=10000 training data points."
   ]
  },
  {
   "cell_type": "code",
   "execution_count": 15,
   "metadata": {},
   "outputs": [
    {
     "name": "stdout",
     "output_type": "stream",
     "text": [
      "Classification from 500-NN [MISSCLASSIFIED]\n",
      "INPUT:\n"
     ]
    },
    {
     "data": {
      "image/png": "[encoded data removed]",
      "text/plain": [
       "<Figure size 432x288 with 1 Axes>"
      ]
     },
     "metadata": {
      "needs_background": "light"
     },
     "output_type": "display_data"
    },
    {
     "name": "stdout",
     "output_type": "stream",
     "text": [
      "LABEL: 7\n",
      "\n",
      "Classification from 1000-NN [CORRECTLY CLASSIFIED]\n",
      "INPUT:\n"
     ]
    },
    {
     "data": {
      "image/png": "[encoded data removed]",
      "text/plain": [
       "<Figure size 432x288 with 1 Axes>"
      ]
     },
     "metadata": {
      "needs_background": "light"
     },
     "output_type": "display_data"
    },
    {
     "name": "stdout",
     "output_type": "stream",
     "text": [
      "LABEL: 8\n"
     ]
    }
   ],
   "source": [
    "#ADD YOUR CODE\n",
    "\n",
    "mlp_labels = mlp.predict(X_test)\n",
    "mlp_large_labels = best_mlp_large.predict(X_test)\n",
    "for index, value in enumerate(y_test):\n",
    "    if (value != mlp_labels[index]) and (value == mlp_large_labels[index]):\n",
    "        print(\"Classification from 500-NN [MISSCLASSIFIED]\")\n",
    "        plot_input(X_test, mlp_labels, index)\n",
    "        print(\"\\nClassification from 1000-NN [CORRECTLY CLASSIFIED]\")\n",
    "        plot_input(X_test, mlp_large_labels, index)\n",
    "        break"
   ]
  },
  {
   "cell_type": "markdown",
   "metadata": {},
   "source": [
    "Let's plot some of the weigths of the multi-layer perceptron classifier, for the best NN we get with 500 data points and with 10000 data points. The code below plots the weights in a matrix form, where a figure represents all the weights of the edges entering in a hidden node. Notice that the code assumes that the NNs are called \"mlp\" and \"best_mlp_large\": you may need to replace such variables with your variable names. \n",
    "\n"
   ]
  },
  {
   "cell_type": "code",
   "execution_count": 16,
   "metadata": {},
   "outputs": [
    {
     "name": "stdout",
     "output_type": "stream",
     "text": [
      "Weights with 500 data points:\n"
     ]
    },
    {
     "data": {
      "image/png": "[encoded data removed]",
      "text/plain": [
       "<Figure size 432x288 with 16 Axes>"
      ]
     },
     "metadata": {},
     "output_type": "display_data"
    },
    {
     "name": "stdout",
     "output_type": "stream",
     "text": [
      "Weights with 10000 data points:\n"
     ]
    },
    {
     "data": {
      "image/png": "[encoded data removed]",
      "text/plain": [
       "<Figure size 432x288 with 16 Axes>"
      ]
     },
     "metadata": {},
     "output_type": "display_data"
    }
   ],
   "source": [
    "print(\"Weights with 500 data points:\")\n",
    "\n",
    "fig, axes = plt.subplots(4, 4)\n",
    "vmin, vmax = mlp.coefs_[0].min(), mlp.coefs_[0].max()\n",
    "for coef, ax in zip(mlp.coefs_[0].T, axes.ravel()):\n",
    "    ax.matshow(coef.reshape(28, 28), cmap=plt.cm.gray, vmin=.5 * vmin, vmax=.5 * vmax)\n",
    "    ax.set_xticks(())\n",
    "    ax.set_yticks(())\n",
    "\n",
    "plt.show()\n",
    "\n",
    "print(\"Weights with 10000 data points:\")\n",
    "\n",
    "fig, axes = plt.subplots(4, 4)\n",
    "vmin, vmax = best_mlp_large.coefs_[0].min(), best_mlp_large.coefs_[0].max()\n",
    "for coef, ax in zip(best_mlp_large.coefs_[0].T, axes.ravel()):\n",
    "    ax.matshow(coef.reshape(28, 28), cmap=plt.cm.gray, vmin=.5 * vmin, vmax=.5 * vmax)\n",
    "    ax.set_xticks(())\n",
    "    ax.set_yticks(())\n",
    "plt.show()"
   ]
  },
  {
   "cell_type": "markdown",
   "metadata": {},
   "source": [
    "## TO DO 9\n",
    "\n",
    "Describe what do you observe by looking at the weights.\n",
    "\n",
    "#### ANSWER\n",
    "\n",
    "*I assume that the black is the lowest value and the white is the highest value in plotted matrices*\n",
    "\n",
    "With the 500-NN we can observe very noisy images, therefore the matrices points are manly black (or very dark) and white (or very light), there are few points that tend do be grey. This means that the weight in the NN are mainly or close to the lowest value (dark color) or close to the highest value (light color) of the 500-NN coefficients.\n",
    "\n",
    "Instead in the 10000-NN the plots are not very noisy, but they present a more uniform grey color (only few plots have quite high noise, especially in the middle of the image). This means that this NN has most of their weights that are around the mean value among the maximum and the minimum value of the 10000-NN coefficients."
   ]
  },
  {
   "cell_type": "markdown",
   "metadata": {},
   "source": [
    "## TO DO 10\n",
    "\n",
    "Pick another classifier among the ones we have seen previously (SVM or something else). Report the training and test error for such classifier with 10000 samples in the training set, if possible; if the classifier cannot run with so many data sample reduce the number of samples.\n",
    "\n",
    "*Note*: if there are parameters to be optimized use cross-validation. If you choose SVM, you can decide if you want to use a single kernel or use the best among many; in the latter case, you need to pick the best kernel using cross-validation (using the functions available in sklearn).\n",
    "\n",
    "**[SVM with RBF kernel with parameters chosen by cross validation]**\n",
    "*The parameters for CV are chosen by considering the observations done in the previous homework and to keep similar the number of parameters used previously in this homework, in order to have a better comparisations of the results. SVMs with RBF kernel trained with big data have better scores with high C and a a gamma=0.01, so I have decided to try gamma around that value.*"
   ]
  },
  {
   "cell_type": "code",
   "execution_count": 17,
   "metadata": {},
   "outputs": [
    {
     "name": "stdout",
     "output_type": "stream",
     "text": [
      "CV time:  7min 42.271sec.\n",
      "Best parameters:  {'C': 10, 'gamma': 0.011, 'kernel': 'rbf'}\n",
      "Best score:  0.8754\n",
      "-----------------------------------------\n",
      "Training time:  0min 15.355sec.\n",
      "X_test data prediction time:  2min 25.82sec.\n",
      "\n",
      "RESULTS FOR OTHER CLASSIFIER\n",
      "\n",
      "Best training error (other model): 0.014400\n",
      "Best test error (other model): 0.120700\n"
     ]
    }
   ],
   "source": [
    "# ADD YOUR CODE\n",
    "from sklearn.svm import SVC\n",
    "\n",
    "parameters = {'kernel': ['rbf'], 'C': [10, 100],'gamma':[0.009, 0.01, 0.011]}\n",
    "\n",
    "timer.start()\n",
    "svm_cv = GridSearchCV(SVC(), parameters).fit(X_train, y_train)\n",
    "timer.stop()\n",
    "print(\"CV time: \", timer)\n",
    "print(\"Best parameters: \", svm_cv.best_params_)\n",
    "print(\"Best score: \", svm_cv.best_score_)\n",
    "print(\"-----------------------------------------\")\n",
    "timer.start()\n",
    "svm = svm_cv.best_estimator_.fit(X_train, y_train)\n",
    "timer.stop()\n",
    "print('Training time: ', timer)\n",
    "\n",
    "training_error_other = 1 - svm.score(X_train, y_train) #ADD YOUR CODE\n",
    "\n",
    "timer.start()\n",
    "test_error_other = 1 - svm.score(X_test, y_test) #ADD YOUR CODE\n",
    "timer.stop()\n",
    "print('X_test data prediction time: ', timer)\n",
    "\n",
    "print ('\\nRESULTS FOR OTHER CLASSIFIER\\n')\n",
    "\n",
    "print (\"Best training error (other model): %f\" % training_error_other)\n",
    "print (\"Best test error (other model): %f\" % test_error_other)"
   ]
  },
  {
   "cell_type": "markdown",
   "metadata": {},
   "source": [
    "## TO DO 11\n",
    "Compare the results of NN and of the other classifier you have chosen above. Which classifier would you preferer? Provide a brief explanation."
   ]
  },
  {
   "cell_type": "markdown",
   "metadata": {},
   "source": [
    "#### ANSWER\n",
    "\n",
    "| Model | CV best score | CV time | Training error | Test Error | Test data Prediction Time | \n",
    "| --- | --- | --- | --- | --- | --- |\n",
    "| [100,] NN | 85.76% | 7min 29.74sec | 0.35% | 14.19% | 0min 0.33sec |\n",
    "| SVM with RBF kernel, C=10, gamma=0.011 | 87.54% | 6min 47.06sec | 1.44% | 12.07% | 2min 23.41sec |\n",
    "\n",
    "The two models are very similar between each other:\n",
    "1. CV is done with a similar number of parameters to optimize; it takes a quite comparable time to complete the task and also the final score reached is almost identical (there is about only a 2% difference);\n",
    "2. Training errors are both close to each others and they are improved with the overall training data; with the NN having a training error close to zero and becoming the best eligiable model so far;\n",
    "3. Test errors are similar as well, with about only 2% of difference in favour of the SVM, but the SVM has a much greater computining time in evaluating the test data label: NN is almost instant, instead the SVM takes more than 2 minutes to compute the prediction of the same amout of data\n",
    "\n",
    "Therefore, by taking into account the last considerations done in point 3, I would chose the NN because in a real world application, usually, the training time it's not a problem and it can be high (so we might even train better models). Instead, when we want a real prediction, we would like to have a precise and quick response (in general), thus with a much more fast model, a 2% percent loss precision is more than accetable."
   ]
  },
  {
   "cell_type": "markdown",
   "metadata": {},
   "source": [
    "# Clustering with K-means\n",
    "\n",
    "Clustering is a useful technique for *unsupervised* learning. We are now going to cluster 2000 images in the fashion MNIST dataset, and try to understand if the clusters we obtain correspond to the true labels."
   ]
  },
  {
   "cell_type": "code",
   "execution_count": 18,
   "metadata": {},
   "outputs": [],
   "source": [
    "#load the required packages\n",
    "\n",
    "from sklearn import metrics\n",
    "from sklearn.cluster import KMeans"
   ]
  },
  {
   "cell_type": "markdown",
   "metadata": {},
   "source": [
    "(Note that the code below assumes that the data has already been transformed as in the NN part of the notebook, so make sure to run the code for the transformation even if you do not complete the part on NN.)"
   ]
  },
  {
   "cell_type": "code",
   "execution_count": 19,
   "metadata": {},
   "outputs": [],
   "source": [
    "#let's consider only 2000 data points\n",
    "\n",
    "X = X[permutation]\n",
    "y = y[permutation]\n",
    "\n",
    "m_training = 2000\n",
    "\n",
    "X_train, X_test = X[:m_training], X[m_training:]\n",
    "y_train, y_test = y[:m_training], y[m_training:]"
   ]
  },
  {
   "cell_type": "markdown",
   "metadata": {},
   "source": [
    "## TO DO 1\n",
    "Cluster the points using the KMeans() and fit() functions (see the userguide for details). For Kmeans, set: n_clusters=10 as number of clusters; n_init=10 as the number of times the algorithm will be run with different centroid seeds; random_state = ID. You can use the default setting for the other parameters."
   ]
  },
  {
   "cell_type": "code",
   "execution_count": 20,
   "metadata": {},
   "outputs": [
    {
     "data": {
      "text/plain": [
       "KMeans(n_clusters=10, random_state=2026826)"
      ]
     },
     "execution_count": 20,
     "metadata": {},
     "output_type": "execute_result"
    }
   ],
   "source": [
    "kmeans = KMeans(n_clusters=10, n_init=10, random_state=ID) #COMPLETE\n",
    "# ADD CODE\n",
    "kmeans.fit(X_train)"
   ]
  },
  {
   "cell_type": "markdown",
   "metadata": {},
   "source": [
    "## Comparison of clusters with true labels"
   ]
  },
  {
   "cell_type": "markdown",
   "metadata": {},
   "source": [
    "## TO DO 2\n",
    "Now compare the obtained clusters with the true labels, using the function sklearn.metrics.cluster.contingency_matrix() (see the userguide for details). The function prints a matrix $A$ such that entry $A_{i,j}$ is is the number of samples in true class $i$ and in predicted class $j$."
   ]
  },
  {
   "cell_type": "code",
   "execution_count": 21,
   "metadata": {},
   "outputs": [
    {
     "data": {
      "text/plain": [
       "array([[  0,  46,  33,   5,   0,   1,   0,   0,   2, 107],\n",
       "       [  0,   6,   6,   7,   1,   0,   0,   0, 195,   4],\n",
       "       [  0,  66,  13, 117,   0,   2,   0,   0,   0,   3],\n",
       "       [  0,  16,  20,   0,   0,   0,   0,   0,  90,  68],\n",
       "       [  0,  34,   7, 119,   0,   1,   0,   0,   6,  36],\n",
       "       [ 42,   1, 134,   0,   0,   2,  16,   8,   0,   0],\n",
       "       [  1,  74,  21,  69,   0,   1,   0,   0,   3,  34],\n",
       "       [154,   0,  13,   0,   0,   0,  39,   1,   0,   0],\n",
       "       [ 13,  13,  14,   8,  68,  69,   2,   0,   0,   0],\n",
       "       [  6,   0,   3,   0,   0,   0,  94,  85,   0,   1]], dtype=int64)"
      ]
     },
     "metadata": {},
     "output_type": "display_data"
    },
    {
     "name": "stdout",
     "output_type": "stream",
     "text": [
      "Correct values for the diagonal:  [194 219 201 194 203 203 203 207 187 189]\n"
     ]
    }
   ],
   "source": [
    "# compute and print the contingency matrix for the true labels vs the clustering assignments\n",
    "#ADD CODE\n",
    "display(metrics.cluster.contingency_matrix(y_train, kmeans.labels_))\n",
    "labels, freqs = np.unique(y_train, return_counts=True)\n",
    "print('Correct values for the diagonal: ', freqs)"
   ]
  },
  {
   "cell_type": "markdown",
   "metadata": {},
   "source": [
    "## TO DO 3\n",
    "Based on the matrix shown above, comment on the results of clustering in terms of adherence to the true labels.\n",
    "\n",
    "\n",
    "#### ANSWER\n",
    "\n",
    "The diagonal means how many samples are correctly predicted and it should be as much as more possible close to the array presented after the matrix. Therefore all the values around the diagonal are missclassified samples.<br>\n",
    "Unfortunately, from the matrix we can observe that the values along the diagonal are very far away from \"ground truth\" (the array presented after the matrix) and the matrix is mostly populated around the diagonal that means a lot of data are missclassified, therefore KMeans didn't work very well."
   ]
  },
  {
   "cell_type": "markdown",
   "metadata": {},
   "source": [
    "## Choice of k with silhoutte coefficient\n",
    "In many real applications it is unclear what is the correct value of $k$ to use. In practice one tries different values of $k$ and then uses some external score to choose a value of $k$. One such score is the silhoutte coefficient, that can be computed with metrics.silhouette_score(). See the definition of the silhoutte coefficient in the userguide."
   ]
  },
  {
   "cell_type": "markdown",
   "metadata": {},
   "source": [
    "## TO DO 4\n",
    "Compute the clustering for k=2,3,...,15 (other parameters as above) and print the silhoutte coefficient for each such clustering."
   ]
  },
  {
   "cell_type": "code",
   "execution_count": 22,
   "metadata": {},
   "outputs": [
    {
     "name": "stdout",
     "output_type": "stream",
     "text": [
      "Silhoutte coefficient for number of clusters=2: 0.20180574254001044\n",
      "Silhoutte coefficient for number of clusters=3: 0.19581848544978112\n",
      "Silhoutte coefficient for number of clusters=4: 0.18508189694075344\n",
      "Silhoutte coefficient for number of clusters=5: 0.16102623520313655\n",
      "Silhoutte coefficient for number of clusters=6: 0.16124559258621127\n",
      "Silhoutte coefficient for number of clusters=7: 0.17131113120830985\n",
      "Silhoutte coefficient for number of clusters=8: 0.1642899661691241\n",
      "Silhoutte coefficient for number of clusters=9: 0.15200164646075434\n",
      "Silhoutte coefficient for number of clusters=10: 0.15694443025491536\n",
      "Silhoutte coefficient for number of clusters=11: 0.1458710240362109\n",
      "Silhoutte coefficient for number of clusters=12: 0.13014816735590004\n",
      "Silhoutte coefficient for number of clusters=13: 0.13575176617060994\n",
      "Silhoutte coefficient for number of clusters=14: 0.13217479382452604\n",
      "Silhoutte coefficient for number of clusters=15: 0.12851574688377682\n"
     ]
    }
   ],
   "source": [
    "#run k-means with 10 choices of initial centroids for a range of values of n_clusters\n",
    "for i in range(2,16):\n",
    "    #ADD CODE\n",
    "    kmeans = KMeans(n_clusters=i, n_init=10, random_state=ID).fit(X_train)\n",
    "    silhouttescore = metrics.silhouette_score(X_train, kmeans.labels_) #COMPLETE\n",
    "    print(\"Silhoutte coefficient for number of clusters=\"+str(i)+\": \"+str(silhouttescore))"
   ]
  },
  {
   "cell_type": "markdown",
   "metadata": {},
   "source": [
    "## TO DO 5\n",
    "\n",
    "Based on the silhoutte score, which $k$ would you pick? Motivate your choice. Does your choice match what you know about the data? If yes, explain why you think this is the case; if no, explain what you think may be the reason."
   ]
  },
  {
   "cell_type": "markdown",
   "metadata": {},
   "source": [
    "#### ANSWER\n",
    "\n",
    "In my opinion there are 2 possile choices:\n",
    "1. **k=2**: it gets the highest score and if we don't any kind of the idea about how many classes there can be in our data\n",
    "2. **k=7**: if we have an idea about the number of classes (e.g. we know they are more than 3) then we can not consider the first scores because we know that clustering is easier when it deals with few cluster (in our case k=2,3,4), in fact after the first peak we can observe another peak and after that the score start to decrease without increasing anymore, therefore this might be the most realist solution\n",
    "\n",
    "Unfortunately this doesn't match our case and this is might be caused from the fact that the samples are very similar among each other, so the features are not distinctive enough, and the number of considered features is not enough."
   ]
  }
 ],
 "metadata": {
  "kernelspec": {
   "display_name": "Python 3",
   "language": "python",
   "name": "python3"
  },
  "language_info": {
   "codemirror_mode": {
    "name": "ipython",
    "version": 3
   },
   "file_extension": ".py",
   "mimetype": "text/x-python",
   "name": "python",
   "nbconvert_exporter": "python",
   "pygments_lexer": "ipython3",
   "version": "3.8.8"
  }
 },
 "nbformat": 4,
 "nbformat_minor": 4
}
