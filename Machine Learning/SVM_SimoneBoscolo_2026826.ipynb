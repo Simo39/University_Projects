{
 "cells": [
  {
   "cell_type": "markdown",
   "metadata": {},
   "source": [
    "# SVM for classification, without and with kernels\n",
    "\n",
    "In this notebook we are going to explore the use of Support Vector Machines (SVMs) for image classification. We are going to use the famous MNIST dataset, that is a dataset of handwritten digits. We get the data from mldata.org, that is a public repository for machine learning data.\n",
    "\n",
    "The dataset consists of 70,000 images of handwritten digits (i.e., 0, 1, ... 9). Each image is 28 pixels by 28 pixels and we can think of it as a vector of 28x28 = 784 numbers. Each number is an integer between 0 and 255. For each image we have the corresponding label (i.e., 0, 1, ..., 9)."
   ]
  },
  {
   "cell_type": "code",
   "execution_count": 1,
   "metadata": {},
   "outputs": [],
   "source": [
    "#load the required packages\n",
    "\n",
    "%matplotlib inline\n",
    "\n",
    "import numpy as np\n",
    "import matplotlib.pyplot as plt\n",
    "\n",
    "import sklearn\n",
    "from sklearn.datasets import fetch_openml\n",
    "\n",
    "#for display purposes\n",
    "import pandas"
   ]
  },
  {
   "cell_type": "code",
   "execution_count": 2,
   "metadata": {},
   "outputs": [],
   "source": [
    "#fix your ID (\"numero di matricola\") and the seed for random generator\n",
    "ID = 2026826\n",
    "np.random.seed(ID)"
   ]
  },
  {
   "cell_type": "markdown",
   "metadata": {},
   "source": [
    "Now let's load the dataset. 'data' contains the input, 'target' contains the label. We normalize the data by dividing each value by 255 so that each value is in [0,1]"
   ]
  },
  {
   "cell_type": "markdown",
   "metadata": {},
   "source": [
    "#### STUDENT NOTES:\n",
    "It has been added as additional parameter *as_frame=False* into the *fetch_openml* function in order to deal with *numpy.ndarray* instead of *pandas.DataFrame*"
   ]
  },
  {
   "cell_type": "code",
   "execution_count": 3,
   "metadata": {},
   "outputs": [],
   "source": [
    "#load the MNIST dataset and let's normalize the features so that each value is in [0,1]\n",
    "mnist = fetch_openml('mnist_784', version=1, as_frame=False)\n",
    "# rescale the data\n",
    "X, y = mnist.data / 255., mnist.target"
   ]
  },
  {
   "cell_type": "markdown",
   "metadata": {},
   "source": [
    "Now split into training and test. We keep 500 samples in the training set. Make sure that each label is present at least 10 times\n",
    "in training. If it is not, then keep adding permutations to the initial data until this \n",
    "happens.\n",
    "\n",
    "**IMPORTANT**: if you cannot run the SVM with 500 samples or 1000 samples (see below), try with a smaller number of samples (e.g. 200 here and 400 below)."
   ]
  },
  {
   "cell_type": "code",
   "execution_count": 4,
   "metadata": {},
   "outputs": [
    {
     "name": "stdout",
     "output_type": "stream",
     "text": [
      "Labels and frequencies in training dataset: \n"
     ]
    },
    {
     "data": {
      "text/plain": [
       "(array(['0', '1', '2', '3', '4', '5', '6', '7', '8', '9'], dtype=object),\n",
       " array([51, 64, 40, 52, 51, 45, 46, 44, 49, 58], dtype=int64))"
      ]
     },
     "execution_count": 4,
     "metadata": {},
     "output_type": "execute_result"
    }
   ],
   "source": [
    "#random permute the data and split into training and test taking the first 500\n",
    "#data samples as training and the rests as test\n",
    "permutation = np.random.permutation(X.shape[0])\n",
    "\n",
    "X = X[permutation]\n",
    "y = y[permutation]\n",
    "\n",
    "m_training = 500\n",
    "\n",
    "X_train, X_test = X[:m_training], X[m_training:]\n",
    "y_train, y_test = y[:m_training], y[m_training:]\n",
    "\n",
    "print(\"Labels and frequencies in training dataset: \")\n",
    "np.unique(y_train, return_counts = True)"
   ]
  },
  {
   "cell_type": "markdown",
   "metadata": {},
   "source": [
    "#### STUDENT NOTES\n",
    "In the following block checks if there are at least 10 elements for each label. If not, it will be added permutations until the condition is satisfied."
   ]
  },
  {
   "cell_type": "code",
   "execution_count": 5,
   "metadata": {},
   "outputs": [
    {
     "data": {
      "text/plain": [
       "(array(['0', '1', '2', '3', '4', '5', '6', '7', '8', '9'], dtype=object),\n",
       " array([51, 64, 40, 52, 51, 45, 46, 44, 49, 58], dtype=int64))"
      ]
     },
     "execution_count": 5,
     "metadata": {},
     "output_type": "execute_result"
    }
   ],
   "source": [
    "labels, labels_qty = np.unique(y_train, return_counts = True)\n",
    "\n",
    "while(not(np.all(labels_qty >= 10))):\n",
    "    permutation = np.random.permutation(X.shape[0])\n",
    "\n",
    "    X = X[permutation]\n",
    "    y = y[permutation]\n",
    "\n",
    "    m_training = 500\n",
    "\n",
    "    X_train, X_test = X[:m_training], X[m_training:]\n",
    "    y_train, y_test = y[:m_training], y[m_training:]\n",
    "    \n",
    "    labels, labels_qty = np.unique(y_train, return_counts = True)\n",
    " \n",
    "np.unique(y_train, return_counts = True)  "
   ]
  },
  {
   "cell_type": "markdown",
   "metadata": {},
   "source": [
    "We now provide a function to print an image in a dataset, the corresponding true label, and the index of the image in the dataset."
   ]
  },
  {
   "cell_type": "code",
   "execution_count": 6,
   "metadata": {},
   "outputs": [],
   "source": [
    "#function for plotting a digit and printing the corresponding labe\n",
    "def plot_digit(X_matrix, labels, index):\n",
    "    print(\"INPUT:\")\n",
    "    plt.imshow(\n",
    "        X_matrix[index].reshape(28,28),\n",
    "        cmap          = plt.cm.gray_r,\n",
    "        interpolation = \"nearest\"\n",
    "    )\n",
    "    plt.show()\n",
    "    print(\"LABEL: %s\" % labels[index])\n",
    "    return"
   ]
  },
  {
   "cell_type": "markdown",
   "metadata": {},
   "source": [
    "As an example, let's print the 100-th image in X_train and the 40,000-th image in X_test and their true labels."
   ]
  },
  {
   "cell_type": "code",
   "execution_count": 7,
   "metadata": {},
   "outputs": [
    {
     "name": "stdout",
     "output_type": "stream",
     "text": [
      "INPUT:\n"
     ]
    },
    {
     "data": {
      "image/png": "[encoded data removed]",
      "text/plain": [
       "<Figure size 432x288 with 1 Axes>"
      ]
     },
     "metadata": {
      "needs_background": "light"
     },
     "output_type": "display_data"
    },
    {
     "name": "stdout",
     "output_type": "stream",
     "text": [
      "LABEL: 0\n",
      "INPUT:\n"
     ]
    },
    {
     "data": {
      "image/png": "[encoded data removed]",
      "text/plain": [
       "<Figure size 432x288 with 1 Axes>"
      ]
     },
     "metadata": {
      "needs_background": "light"
     },
     "output_type": "display_data"
    },
    {
     "name": "stdout",
     "output_type": "stream",
     "text": [
      "LABEL: 9\n"
     ]
    }
   ],
   "source": [
    "#let's try the plotting function\n",
    "plot_digit(X_train,y_train,100)\n",
    "plot_digit(X_test,y_test,40000)"
   ]
  },
  {
   "cell_type": "markdown",
   "metadata": {},
   "source": [
    "## TO DO 1\n",
    "Run SVM with cross validation to pick a kernel and values of parameters. Use a 5-fold cross-validation to pick the best kernel and choice of parameters. We provide some potential choice for parameters, but change the grid if needed (e.g., it takes too long). For the SVM for classification use SVC from sklearn.svm; for the grid search we suggest you use GridSearchCV from sklearn.model_selection, but you can implement your own cross-validation for model selection if you prefer.\n",
    "\n",
    "Print the best parameters used as well as the score obtained by the best model"
   ]
  },
  {
   "cell_type": "code",
   "execution_count": 8,
   "metadata": {},
   "outputs": [
    {
     "name": "stdout",
     "output_type": "stream",
     "text": [
      "RESULTS FOR LINEAR KERNEL\n",
      "\n",
      "Best parameters set found:\n",
      "{'C': 1}\n",
      "Score with best parameters:\n",
      "0.852\n",
      "\n",
      "All scores on the grid:\n"
     ]
    },
    {
     "data": {
      "text/html": [
       "<div>\n",
       "<style scoped>\n",
       "    .dataframe tbody tr th:only-of-type {\n",
       "        vertical-align: middle;\n",
       "    }\n",
       "\n",
       "    .dataframe tbody tr th {\n",
       "        vertical-align: top;\n",
       "    }\n",
       "\n",
       "    .dataframe thead th {\n",
       "        text-align: right;\n",
       "    }\n",
       "</style>\n",
       "<table border=\"1\" class=\"dataframe\">\n",
       "  <thead>\n",
       "    <tr style=\"text-align: right;\">\n",
       "      <th></th>\n",
       "      <th>0</th>\n",
       "      <th>1</th>\n",
       "      <th>2</th>\n",
       "    </tr>\n",
       "  </thead>\n",
       "  <tbody>\n",
       "    <tr>\n",
       "      <th>C</th>\n",
       "      <td>1.000</td>\n",
       "      <td>10.000</td>\n",
       "      <td>100.000</td>\n",
       "    </tr>\n",
       "    <tr>\n",
       "      <th>score</th>\n",
       "      <td>0.852</td>\n",
       "      <td>0.852</td>\n",
       "      <td>0.852</td>\n",
       "    </tr>\n",
       "  </tbody>\n",
       "</table>\n",
       "</div>"
      ],
      "text/plain": [
       "           0       1        2\n",
       "C      1.000  10.000  100.000\n",
       "score  0.852   0.852    0.852"
      ]
     },
     "metadata": {},
     "output_type": "display_data"
    },
    {
     "name": "stdout",
     "output_type": "stream",
     "text": [
      "\n",
      "RESULTS FOR POLY DEGREE=2 KERNEL\n",
      "\n",
      "Best parameters set found:\n",
      "{'C': 1, 'gamma': 0.1}\n",
      "Score with best parameters:\n",
      "0.86\n",
      "\n",
      "All scores on the grid:\n"
     ]
    },
    {
     "data": {
      "text/html": [
       "<div>\n",
       "<style scoped>\n",
       "    .dataframe tbody tr th:only-of-type {\n",
       "        vertical-align: middle;\n",
       "    }\n",
       "\n",
       "    .dataframe tbody tr th {\n",
       "        vertical-align: top;\n",
       "    }\n",
       "\n",
       "    .dataframe thead th {\n",
       "        text-align: right;\n",
       "    }\n",
       "</style>\n",
       "<table border=\"1\" class=\"dataframe\">\n",
       "  <thead>\n",
       "    <tr style=\"text-align: right;\">\n",
       "      <th></th>\n",
       "      <th>0</th>\n",
       "      <th>1</th>\n",
       "      <th>2</th>\n",
       "      <th>3</th>\n",
       "      <th>4</th>\n",
       "      <th>5</th>\n",
       "      <th>6</th>\n",
       "      <th>7</th>\n",
       "      <th>8</th>\n",
       "    </tr>\n",
       "  </thead>\n",
       "  <tbody>\n",
       "    <tr>\n",
       "      <th>C</th>\n",
       "      <td>1.00</td>\n",
       "      <td>1.00</td>\n",
       "      <td>1.00</td>\n",
       "      <td>10.000</td>\n",
       "      <td>10.00</td>\n",
       "      <td>10.00</td>\n",
       "      <td>100.00</td>\n",
       "      <td>100.00</td>\n",
       "      <td>100.00</td>\n",
       "    </tr>\n",
       "    <tr>\n",
       "      <th>gamma</th>\n",
       "      <td>0.01</td>\n",
       "      <td>0.10</td>\n",
       "      <td>1.00</td>\n",
       "      <td>0.010</td>\n",
       "      <td>0.10</td>\n",
       "      <td>1.00</td>\n",
       "      <td>0.01</td>\n",
       "      <td>0.10</td>\n",
       "      <td>1.00</td>\n",
       "    </tr>\n",
       "    <tr>\n",
       "      <th>score</th>\n",
       "      <td>0.83</td>\n",
       "      <td>0.86</td>\n",
       "      <td>0.86</td>\n",
       "      <td>0.858</td>\n",
       "      <td>0.86</td>\n",
       "      <td>0.86</td>\n",
       "      <td>0.86</td>\n",
       "      <td>0.86</td>\n",
       "      <td>0.86</td>\n",
       "    </tr>\n",
       "  </tbody>\n",
       "</table>\n",
       "</div>"
      ],
      "text/plain": [
       "          0     1     2       3      4      5       6       7       8\n",
       "C      1.00  1.00  1.00  10.000  10.00  10.00  100.00  100.00  100.00\n",
       "gamma  0.01  0.10  1.00   0.010   0.10   1.00    0.01    0.10    1.00\n",
       "score  0.83  0.86  0.86   0.858   0.86   0.86    0.86    0.86    0.86"
      ]
     },
     "metadata": {},
     "output_type": "display_data"
    },
    {
     "name": "stdout",
     "output_type": "stream",
     "text": [
      "\n",
      "RESULTS FOR rbf KERNEL\n",
      "\n",
      "Best parameters set found:\n",
      "{'C': 10, 'gamma': 0.01}\n",
      "Score with best parameters:\n",
      "0.8880000000000001\n",
      "\n",
      "All scores on the grid:\n"
     ]
    },
    {
     "data": {
      "text/html": [
       "<div>\n",
       "<style scoped>\n",
       "    .dataframe tbody tr th:only-of-type {\n",
       "        vertical-align: middle;\n",
       "    }\n",
       "\n",
       "    .dataframe tbody tr th {\n",
       "        vertical-align: top;\n",
       "    }\n",
       "\n",
       "    .dataframe thead th {\n",
       "        text-align: right;\n",
       "    }\n",
       "</style>\n",
       "<table border=\"1\" class=\"dataframe\">\n",
       "  <thead>\n",
       "    <tr style=\"text-align: right;\">\n",
       "      <th></th>\n",
       "      <th>0</th>\n",
       "      <th>1</th>\n",
       "      <th>2</th>\n",
       "      <th>3</th>\n",
       "      <th>4</th>\n",
       "      <th>5</th>\n",
       "      <th>6</th>\n",
       "      <th>7</th>\n",
       "      <th>8</th>\n",
       "    </tr>\n",
       "  </thead>\n",
       "  <tbody>\n",
       "    <tr>\n",
       "      <th>C</th>\n",
       "      <td>1.000</td>\n",
       "      <td>1.000</td>\n",
       "      <td>1.000</td>\n",
       "      <td>10.000</td>\n",
       "      <td>10.000</td>\n",
       "      <td>10.000</td>\n",
       "      <td>100.000</td>\n",
       "      <td>100.000</td>\n",
       "      <td>100.000</td>\n",
       "    </tr>\n",
       "    <tr>\n",
       "      <th>gamma</th>\n",
       "      <td>0.010</td>\n",
       "      <td>0.100</td>\n",
       "      <td>1.000</td>\n",
       "      <td>0.010</td>\n",
       "      <td>0.100</td>\n",
       "      <td>1.000</td>\n",
       "      <td>0.010</td>\n",
       "      <td>0.100</td>\n",
       "      <td>1.000</td>\n",
       "    </tr>\n",
       "    <tr>\n",
       "      <th>score</th>\n",
       "      <td>0.862</td>\n",
       "      <td>0.546</td>\n",
       "      <td>0.128</td>\n",
       "      <td>0.888</td>\n",
       "      <td>0.592</td>\n",
       "      <td>0.128</td>\n",
       "      <td>0.888</td>\n",
       "      <td>0.592</td>\n",
       "      <td>0.128</td>\n",
       "    </tr>\n",
       "  </tbody>\n",
       "</table>\n",
       "</div>"
      ],
      "text/plain": [
       "           0      1      2       3       4       5        6        7        8\n",
       "C      1.000  1.000  1.000  10.000  10.000  10.000  100.000  100.000  100.000\n",
       "gamma  0.010  0.100  1.000   0.010   0.100   1.000    0.010    0.100    1.000\n",
       "score  0.862  0.546  0.128   0.888   0.592   0.128    0.888    0.592    0.128"
      ]
     },
     "metadata": {},
     "output_type": "display_data"
    }
   ],
   "source": [
    "#import SVC\n",
    "from sklearn.svm import SVC\n",
    "#import for Cross-Validation\n",
    "from sklearn.model_selection import GridSearchCV\n",
    "\n",
    "# parameters for linear SVM\n",
    "parameters = {'C': [1, 10, 100]}\n",
    "\n",
    "#run linear SVM\n",
    "linear_SVM = SVC(kernel='linear')\n",
    "\n",
    "#find best model uusing 5-fold CV \n",
    "#and train it using all the training data\n",
    "\n",
    "# ADD CODE\n",
    "linear_kernel = GridSearchCV(linear_SVM, parameters)\n",
    "\n",
    "linear_kernel.fit(X_train, y_train)\n",
    "\n",
    "print ('RESULTS FOR LINEAR KERNEL\\n')\n",
    "\n",
    "print(\"Best parameters set found:\")\n",
    "# ADD CODE\n",
    "print(linear_kernel.best_params_)\n",
    "\n",
    "print(\"Score with best parameters:\")\n",
    "# ADD CODE\n",
    "print(linear_kernel.best_score_)\n",
    "\n",
    "print(\"\\nAll scores on the grid:\")\n",
    "# ADD CODE\n",
    "#print(\"Mean test scores: \", linear_kernel.cv_results_['mean_test_score'])\n",
    "params = linear_kernel.cv_results_['params']\n",
    "scores = linear_kernel.cv_results_['mean_test_score']\n",
    "results = [{'C' : value['C'], 'score' : scores[index]} for index, value in enumerate(params)]\n",
    "display(pandas.DataFrame(results).T)\n",
    "\n",
    "# parameters for poly with degree 2 kernel\n",
    "parameters = {'C': [1, 10, 100],'gamma':[0.01,0.1,1.]}\n",
    "\n",
    "#run SVM with poly of degree 2 kernel\n",
    "poly2_SVM = SVC(kernel='poly',degree=2)\n",
    "\n",
    "# ADD CODE: DO THE SAME AS ABOVE FOR POLYNOMIAL KERNEL WITH DEGREE=2\n",
    "poly2_kernel = GridSearchCV(poly2_SVM, parameters)\n",
    "\n",
    "poly2_kernel.fit(X_train, y_train)\n",
    "\n",
    "print ('\\nRESULTS FOR POLY DEGREE=2 KERNEL\\n')\n",
    "\n",
    "print(\"Best parameters set found:\")\n",
    "# ADD CODE\n",
    "print(poly2_kernel.best_params_)\n",
    "\n",
    "print(\"Score with best parameters:\")\n",
    "# ADD CODE\n",
    "print(poly2_kernel.best_score_)\n",
    "\n",
    "print(\"\\nAll scores on the grid:\")\n",
    "# ADD CODE\n",
    "#print(\"Mean test scores: \", poly2_kernel.cv_results_['mean_test_score'])\n",
    "params = poly2_kernel.cv_results_['params']\n",
    "scores = poly2_kernel.cv_results_['mean_test_score']\n",
    "results = [{'C' : value['C'], 'gamma' : value['gamma'], 'score' : scores[index]} for index, value in enumerate(params)]\n",
    "display(pandas.DataFrame(results).T)\n",
    "\n",
    "# parameters for rbf SVM\n",
    "parameters = {'C': [1, 10, 100],'gamma':[0.01,0.1,1.]}\n",
    "\n",
    "#run SVM with rbf kernel\n",
    "rbf_SVM = SVC(kernel='rbf')\n",
    "\n",
    "# ADD CODE: DO THE SAME AS ABOVE FOR RBF KERNEL\n",
    "\n",
    "rbf_kernel = GridSearchCV(rbf_SVM, parameters)\n",
    "\n",
    "rbf_kernel.fit(X_train, y_train)\n",
    "\n",
    "print ('\\nRESULTS FOR rbf KERNEL\\n')\n",
    "\n",
    "print(\"Best parameters set found:\")\n",
    "# ADD CODE\n",
    "print(rbf_kernel.best_params_)\n",
    "\n",
    "print(\"Score with best parameters:\")\n",
    "# ADD CODE\n",
    "print(rbf_kernel.best_score_)\n",
    "\n",
    "print(\"\\nAll scores on the grid:\")\n",
    "# ADD CODE\n",
    "#print(\"Mean test scores: \", rbf_kernel.cv_results_['mean_test_score'])\n",
    "params = rbf_kernel.cv_results_['params']\n",
    "scores = rbf_kernel.cv_results_['mean_test_score']\n",
    "results = [{'C' : value['C'], 'gamma' : value['gamma'], 'score' : scores[index]} for index, value in enumerate(params)]\n",
    "display(pandas.DataFrame(results).T)"
   ]
  },
  {
   "cell_type": "markdown",
   "metadata": {},
   "source": [
    "## TO DO 2\n",
    "For the \"best\" SVM kernel and choice of parameters from above, train the model on the entire training set and measure the training error. Also make predictions on the test set and measure the test error. Print the training and the test error."
   ]
  },
  {
   "cell_type": "code",
   "execution_count": 9,
   "metadata": {},
   "outputs": [
    {
     "name": "stdout",
     "output_type": "stream",
     "text": [
      "Best SVM chosen: kernel=rbf, C=10, gamma=0.01\n",
      "Best SVM training error: 0.000000\n",
      "Best SVM test error: 0.106863\n"
     ]
    }
   ],
   "source": [
    "#get training and test error for the best SVM model from CV\n",
    "scores_SVM = [linear_kernel.best_score_, poly2_kernel.best_score_, rbf_kernel.best_score_]\n",
    "kernels_SVM = [linear_kernel, poly2_kernel, rbf_kernel]\n",
    "\n",
    "best = np.argmax(scores_SVM)\n",
    "params = kernels_SVM[best].best_estimator_.get_params()\n",
    "print(\"Best SVM chosen: \" +\n",
    "      \"kernel=\" + str(params['kernel']) + \n",
    "      \", C=\" + str(params['C']) +\n",
    "      \", gamma=\" + str(params[\"gamma\"]))\n",
    "\n",
    "best_SVM = kernels_SVM[best].best_estimator_ # ADD CODE\n",
    "\n",
    "# fit the model on the entire training set\n",
    "# ADD CODE\n",
    "best_SVM.fit(X_train, y_train)\n",
    "\n",
    "#get the training and test error\n",
    "training_error = 1. - best_SVM.score(X_train,y_train)\n",
    "test_error = 1. - best_SVM.score(X_test,y_test)\n",
    "\n",
    "print (\"Best SVM training error: %f\" % training_error)\n",
    "print (\"Best SVM test error: %f\" % test_error)"
   ]
  },
  {
   "cell_type": "markdown",
   "metadata": {},
   "source": [
    "## Use logistic regression for comparison\n",
    "\n",
    "## TO DO 3\n",
    "\n",
    "Just for comparison let's also use logistic regression, first with the default values of the parameter for regularization and then with cross-validation to fix the value of the parameter. For cross validation, use 5-fold cross validation and the default values of the regularization parameters for the function linear_model.LogisticRegressionCV(...)"
   ]
  },
  {
   "cell_type": "markdown",
   "metadata": {},
   "source": [
    "#### STUDENT NOTES\n",
    "For the regular LR and for the LR with CV is set *max_iter=1000* to don't display the warning messagges thrown by the system."
   ]
  },
  {
   "cell_type": "code",
   "execution_count": 10,
   "metadata": {},
   "outputs": [
    {
     "name": "stdout",
     "output_type": "stream",
     "text": [
      "Regular Logistic Regression\n",
      "Best logistic regression training error: 0.000000\n",
      "Best logistic regression test error: 0.148806\n",
      "\n",
      "LR after 5-fold Cross Validation\n",
      "Best logistic regression training error: 0.000000\n",
      "Best logistic regression test error: 0.155180\n"
     ]
    }
   ],
   "source": [
    "from sklearn import linear_model\n",
    "\n",
    "lr = linear_model.LogisticRegression(max_iter=1000)\n",
    "# fit the model on the training data\n",
    "# ADD CODE\n",
    "lr.fit(X_train, y_train)\n",
    "\n",
    "#compute training and test error for model above\n",
    "training_error = 1 - lr.score(X_train, y_train) # COMPLETE\n",
    "test_error = 1 - lr.score(X_test, y_test) # COMPLETE\n",
    "print (\"Regular Logistic Regression\")\n",
    "print (\"Best logistic regression training error: %f\" % training_error)\n",
    "print (\"Best logistic regression test error: %f\" % test_error)\n",
    "\n",
    "#logistic regression with 5-fold CV: you can use use linear_model.LogisticRegressionCV\n",
    "# use 5-fold CV to find the best choice of the parameter, than train\n",
    "# the model on the entire training set\n",
    "lr_cv = linear_model.LogisticRegressionCV(cv=5, max_iter=1000).fit(X_train, y_train) # COMPLETE\n",
    "training_error_cv = 1 - lr_cv.score(X_train, y_train) # COMPLETE\n",
    "test_error_cv = 1 - lr_cv.score(X_test, y_test) # COMPLETE\n",
    "\n",
    "print (\"\\nLR after 5-fold Cross Validation\")\n",
    "print (\"Best logistic regression training error: %f\" % training_error_cv)\n",
    "print (\"Best logistic regression test error: %f\" % test_error_cv)"
   ]
  },
  {
   "cell_type": "code",
   "execution_count": 11,
   "metadata": {
    "scrolled": true
   },
   "outputs": [
    {
     "name": "stdout",
     "output_type": "stream",
     "text": [
      "Best C obtained:  10000.0 \t[due to the default settings is the same for each class]\n"
     ]
    }
   ],
   "source": [
    "#line added to compare the regular LR with the LR trained with CV\n",
    "print(\"Best C obtained: \", lr_cv.C_[0], \"\\t[due to the default settings is the same for each class]\")"
   ]
  },
  {
   "cell_type": "markdown",
   "metadata": {},
   "source": [
    "## TO DO 4 \n",
    "Compare and comment the results from SVM and logistic regression.\n",
    "\n",
    "#### ANSWER\n",
    "The SVM has good results with all the trained kernels, in fact the lowest score is around the 85.2% and it's reached by the linear kernel.<br>\n",
    "The **best results** is obtained by the non-linear *RBF kernel* with *C=10* and *gamma=0.01* and a **score of 88.8%**.<br>\n",
    "If we compare the parameters tested during the cross validation we can observe that it has been chosen, among the set values:\n",
    "1. **the middle value for C**, this means that the CV has obtain the best results by giving an \"equal importance\" among the complexity (the regularization) of the model and the empirical risk;\n",
    "2. **the lowest value for gamma**, this implies that the CV has detected an influence among far samples in the training set** \n",
    "\n",
    "The regular LR and the LR obtained with the CV (LR and LR_CV from now) have obtained training error equals to zero, this means that the training set is linearly separable. Also, we can observe that both test errors are quite similiar to the best test error (*1-score*) obtained with the SVM trained with a linear kernel (they are all around 15%). This is expected because Logistic Regression is applied by using a linear model and, as the SVM with linear kernel, it's trying to build an halfspace that divides the samples in the dataset.\n",
    "Another observation is that the LR have the regularization parameter *C=1*; instead the LR_CV has found out *C=10000* as the best regularization parameter, this is like not considering the hypothesis complexity for training the final model.\n",
    "\n",
    "Even if the data are linearly separable, the **best result** is obtained by the **SVM model with RBF kernel**, that is a non linear kernel, with a **test error of 10.7%** (against the 14.9% of LR and 15.5% of LR_CV).<br>\n",
    "**Therefore the non linear model (thanks to the kernel trick) is the one that best represents the real world.**"
   ]
  },
  {
   "cell_type": "markdown",
   "metadata": {},
   "source": [
    "## TO DO 5\n",
    "Write the code that finds and plots a digit that is missclassified by logistic regression (optimized for the regularization parameter) and correctly classified by the \"best\" SVM."
   ]
  },
  {
   "cell_type": "code",
   "execution_count": 12,
   "metadata": {},
   "outputs": [
    {
     "name": "stdout",
     "output_type": "stream",
     "text": [
      "INPUT:\n"
     ]
    },
    {
     "data": {
      "image/png": "[encoded data removed]",
      "text/plain": [
       "<Figure size 432x288 with 1 Axes>"
      ]
     },
     "metadata": {
      "needs_background": "light"
     },
     "output_type": "display_data"
    },
    {
     "name": "stdout",
     "output_type": "stream",
     "text": [
      "LABEL: 8\n",
      "INPUT:\n"
     ]
    },
    {
     "data": {
      "image/png": "[encoded data removed]",
      "text/plain": [
       "<Figure size 432x288 with 1 Axes>"
      ]
     },
     "metadata": {
      "needs_background": "light"
     },
     "output_type": "display_data"
    },
    {
     "name": "stdout",
     "output_type": "stream",
     "text": [
      "LABEL: 5\n"
     ]
    }
   ],
   "source": [
    "# ADD CODE\n",
    "\n",
    "svm_labels = best_SVM.predict(X_test)\n",
    "lr_cv_labels = lr_cv.predict(X_test)\n",
    "for index, value in enumerate(y_test):\n",
    "    if (value != lr_cv_labels[index]) and (value == svm_labels[index]):\n",
    "        plot_digit(X_test, svm_labels, index)\n",
    "        plot_digit(X_test, lr_cv_labels, index)\n",
    "        break        "
   ]
  },
  {
   "cell_type": "markdown",
   "metadata": {},
   "source": [
    "## More data\n",
    "Now let's do the same but using 1000 data points for training. \n",
    "\n",
    "## TO DO 6\n",
    "Repeat the entire analysis above using 1000 samples. Of course you can copy the code from above."
   ]
  },
  {
   "cell_type": "code",
   "execution_count": 13,
   "metadata": {},
   "outputs": [
    {
     "name": "stdout",
     "output_type": "stream",
     "text": [
      "Labels and frequencies in training dataset: \n"
     ]
    },
    {
     "data": {
      "text/plain": [
       "(array(['0', '1', '2', '3', '4', '5', '6', '7', '8', '9'], dtype=object),\n",
       " array([100, 134,  98, 100,  76,  84,  95, 116, 112,  85], dtype=int64))"
      ]
     },
     "execution_count": 13,
     "metadata": {},
     "output_type": "execute_result"
    }
   ],
   "source": [
    "#random permute the data and split into training and test taking the first 500\n",
    "#data samples as training and the rests as test\n",
    "permutation = np.random.permutation(X.shape[0])\n",
    "\n",
    "X = X[permutation]\n",
    "y = y[permutation]\n",
    "\n",
    "m_training = 1000\n",
    "\n",
    "X_train, X_test = X[:m_training], X[m_training:]\n",
    "y_train, y_test = y[:m_training], y[m_training:]\n",
    "\n",
    "print(\"Labels and frequencies in training dataset: \")\n",
    "np.unique(y_train, return_counts = True)"
   ]
  },
  {
   "cell_type": "markdown",
   "metadata": {},
   "source": [
    "#### STUDENT NOTES\n",
    "In the following block checks if there are at least 10 elements for each label. If not, it will be added permutations until the condition is satisfied."
   ]
  },
  {
   "cell_type": "code",
   "execution_count": 14,
   "metadata": {},
   "outputs": [
    {
     "data": {
      "text/plain": [
       "(array(['0', '1', '2', '3', '4', '5', '6', '7', '8', '9'], dtype=object),\n",
       " array([100, 134,  98, 100,  76,  84,  95, 116, 112,  85], dtype=int64))"
      ]
     },
     "execution_count": 14,
     "metadata": {},
     "output_type": "execute_result"
    }
   ],
   "source": [
    "labels, labels_qty = np.unique(y_train, return_counts = True)\n",
    "\n",
    "\n",
    "while(not(np.all(labels_qty >= 10))):\n",
    "    permutation = np.random.permutation(X.shape[0])\n",
    "\n",
    "    X = X[permutation]\n",
    "    y = y[permutation]\n",
    "\n",
    "    m_training = 1000\n",
    "\n",
    "    X_train, X_test = X[:m_training], X[m_training:]\n",
    "    y_train, y_test = y[:m_training], y[m_training:]\n",
    "    \n",
    "    labels, labels_qty = np.unique(y_train, return_counts = True)\n",
    " \n",
    "np.unique(y_train, return_counts = True)  "
   ]
  },
  {
   "cell_type": "markdown",
   "metadata": {},
   "source": [
    "## SVM with Cross Validation\n",
    "Run SVM with 5-fold cross validation to pick a kernel and values of parameters.\n",
    "\n",
    "As before, it's trained and chosen among the following parameters:\n",
    "1. **kernel** = [linear , polynomial with degree 2 , rbf]\n",
    "2. **C** = [1, 10, 100]\n",
    "3. **gamma** = [1, 0.1, 0.01] *(only for polynomial and rbf kernels)*"
   ]
  },
  {
   "cell_type": "code",
   "execution_count": 15,
   "metadata": {},
   "outputs": [
    {
     "name": "stdout",
     "output_type": "stream",
     "text": [
      "RESULTS FOR LINEAR KERNEL\n",
      "\n",
      "Best parameters set found:\n",
      "{'C': 1}\n",
      "Score with best parameters:\n",
      "0.868\n",
      "\n",
      "All scores on the grid:\n"
     ]
    },
    {
     "data": {
      "text/html": [
       "<div>\n",
       "<style scoped>\n",
       "    .dataframe tbody tr th:only-of-type {\n",
       "        vertical-align: middle;\n",
       "    }\n",
       "\n",
       "    .dataframe tbody tr th {\n",
       "        vertical-align: top;\n",
       "    }\n",
       "\n",
       "    .dataframe thead th {\n",
       "        text-align: right;\n",
       "    }\n",
       "</style>\n",
       "<table border=\"1\" class=\"dataframe\">\n",
       "  <thead>\n",
       "    <tr style=\"text-align: right;\">\n",
       "      <th></th>\n",
       "      <th>0</th>\n",
       "      <th>1</th>\n",
       "      <th>2</th>\n",
       "    </tr>\n",
       "  </thead>\n",
       "  <tbody>\n",
       "    <tr>\n",
       "      <th>C</th>\n",
       "      <td>1.000</td>\n",
       "      <td>10.000</td>\n",
       "      <td>100.000</td>\n",
       "    </tr>\n",
       "    <tr>\n",
       "      <th>score</th>\n",
       "      <td>0.868</td>\n",
       "      <td>0.868</td>\n",
       "      <td>0.868</td>\n",
       "    </tr>\n",
       "  </tbody>\n",
       "</table>\n",
       "</div>"
      ],
      "text/plain": [
       "           0       1        2\n",
       "C      1.000  10.000  100.000\n",
       "score  0.868   0.868    0.868"
      ]
     },
     "metadata": {},
     "output_type": "display_data"
    },
    {
     "name": "stdout",
     "output_type": "stream",
     "text": [
      "\n",
      "RESULTS FOR POLY DEGREE=2 KERNEL\n",
      "\n",
      "Best parameters set found:\n",
      "{'C': 1, 'gamma': 0.1}\n",
      "Score with best parameters:\n",
      "0.884\n",
      "\n",
      "All scores on the grid:\n"
     ]
    },
    {
     "data": {
      "text/html": [
       "<div>\n",
       "<style scoped>\n",
       "    .dataframe tbody tr th:only-of-type {\n",
       "        vertical-align: middle;\n",
       "    }\n",
       "\n",
       "    .dataframe tbody tr th {\n",
       "        vertical-align: top;\n",
       "    }\n",
       "\n",
       "    .dataframe thead th {\n",
       "        text-align: right;\n",
       "    }\n",
       "</style>\n",
       "<table border=\"1\" class=\"dataframe\">\n",
       "  <thead>\n",
       "    <tr style=\"text-align: right;\">\n",
       "      <th></th>\n",
       "      <th>0</th>\n",
       "      <th>1</th>\n",
       "      <th>2</th>\n",
       "      <th>3</th>\n",
       "      <th>4</th>\n",
       "      <th>5</th>\n",
       "      <th>6</th>\n",
       "      <th>7</th>\n",
       "      <th>8</th>\n",
       "    </tr>\n",
       "  </thead>\n",
       "  <tbody>\n",
       "    <tr>\n",
       "      <th>C</th>\n",
       "      <td>1.000</td>\n",
       "      <td>1.000</td>\n",
       "      <td>1.000</td>\n",
       "      <td>10.000</td>\n",
       "      <td>10.000</td>\n",
       "      <td>10.000</td>\n",
       "      <td>100.000</td>\n",
       "      <td>100.000</td>\n",
       "      <td>100.000</td>\n",
       "    </tr>\n",
       "    <tr>\n",
       "      <th>gamma</th>\n",
       "      <td>0.010</td>\n",
       "      <td>0.100</td>\n",
       "      <td>1.000</td>\n",
       "      <td>0.010</td>\n",
       "      <td>0.100</td>\n",
       "      <td>1.000</td>\n",
       "      <td>0.010</td>\n",
       "      <td>0.100</td>\n",
       "      <td>1.000</td>\n",
       "    </tr>\n",
       "    <tr>\n",
       "      <th>score</th>\n",
       "      <td>0.869</td>\n",
       "      <td>0.884</td>\n",
       "      <td>0.884</td>\n",
       "      <td>0.883</td>\n",
       "      <td>0.884</td>\n",
       "      <td>0.884</td>\n",
       "      <td>0.884</td>\n",
       "      <td>0.884</td>\n",
       "      <td>0.884</td>\n",
       "    </tr>\n",
       "  </tbody>\n",
       "</table>\n",
       "</div>"
      ],
      "text/plain": [
       "           0      1      2       3       4       5        6        7        8\n",
       "C      1.000  1.000  1.000  10.000  10.000  10.000  100.000  100.000  100.000\n",
       "gamma  0.010  0.100  1.000   0.010   0.100   1.000    0.010    0.100    1.000\n",
       "score  0.869  0.884  0.884   0.883   0.884   0.884    0.884    0.884    0.884"
      ]
     },
     "metadata": {},
     "output_type": "display_data"
    },
    {
     "name": "stdout",
     "output_type": "stream",
     "text": [
      "\n",
      "RESULTS FOR rbf KERNEL\n",
      "\n",
      "Best parameters set found:\n",
      "{'C': 100, 'gamma': 0.01}\n",
      "Score with best parameters:\n",
      "0.9040000000000001\n",
      "\n",
      "All scores on the grid:\n"
     ]
    },
    {
     "data": {
      "text/html": [
       "<div>\n",
       "<style scoped>\n",
       "    .dataframe tbody tr th:only-of-type {\n",
       "        vertical-align: middle;\n",
       "    }\n",
       "\n",
       "    .dataframe tbody tr th {\n",
       "        vertical-align: top;\n",
       "    }\n",
       "\n",
       "    .dataframe thead th {\n",
       "        text-align: right;\n",
       "    }\n",
       "</style>\n",
       "<table border=\"1\" class=\"dataframe\">\n",
       "  <thead>\n",
       "    <tr style=\"text-align: right;\">\n",
       "      <th></th>\n",
       "      <th>0</th>\n",
       "      <th>1</th>\n",
       "      <th>2</th>\n",
       "      <th>3</th>\n",
       "      <th>4</th>\n",
       "      <th>5</th>\n",
       "      <th>6</th>\n",
       "      <th>7</th>\n",
       "      <th>8</th>\n",
       "    </tr>\n",
       "  </thead>\n",
       "  <tbody>\n",
       "    <tr>\n",
       "      <th>C</th>\n",
       "      <td>1.000</td>\n",
       "      <td>1.000</td>\n",
       "      <td>1.000</td>\n",
       "      <td>10.000</td>\n",
       "      <td>10.000</td>\n",
       "      <td>10.000</td>\n",
       "      <td>100.000</td>\n",
       "      <td>100.000</td>\n",
       "      <td>100.000</td>\n",
       "    </tr>\n",
       "    <tr>\n",
       "      <th>gamma</th>\n",
       "      <td>0.010</td>\n",
       "      <td>0.100</td>\n",
       "      <td>1.000</td>\n",
       "      <td>0.010</td>\n",
       "      <td>0.100</td>\n",
       "      <td>1.000</td>\n",
       "      <td>0.010</td>\n",
       "      <td>0.100</td>\n",
       "      <td>1.000</td>\n",
       "    </tr>\n",
       "    <tr>\n",
       "      <th>score</th>\n",
       "      <td>0.895</td>\n",
       "      <td>0.547</td>\n",
       "      <td>0.134</td>\n",
       "      <td>0.903</td>\n",
       "      <td>0.591</td>\n",
       "      <td>0.134</td>\n",
       "      <td>0.904</td>\n",
       "      <td>0.591</td>\n",
       "      <td>0.134</td>\n",
       "    </tr>\n",
       "  </tbody>\n",
       "</table>\n",
       "</div>"
      ],
      "text/plain": [
       "           0      1      2       3       4       5        6        7        8\n",
       "C      1.000  1.000  1.000  10.000  10.000  10.000  100.000  100.000  100.000\n",
       "gamma  0.010  0.100  1.000   0.010   0.100   1.000    0.010    0.100    1.000\n",
       "score  0.895  0.547  0.134   0.903   0.591   0.134    0.904    0.591    0.134"
      ]
     },
     "metadata": {},
     "output_type": "display_data"
    }
   ],
   "source": [
    "\n",
    "# parameters for linear SVM\n",
    "parameters = {'C': [1, 10, 100]}\n",
    "\n",
    "#run linear SVM\n",
    "linear_SVM = SVC(kernel='linear')\n",
    "\n",
    "#find best model uusing 5-fold CV \n",
    "#and train it using all the training data\n",
    "\n",
    "# ADD CODE\n",
    "linear_kernel = GridSearchCV(linear_SVM, parameters)\n",
    "\n",
    "linear_kernel.fit(X_train, y_train)\n",
    "\n",
    "print ('RESULTS FOR LINEAR KERNEL\\n')\n",
    "\n",
    "print(\"Best parameters set found:\")\n",
    "# ADD CODE\n",
    "print(linear_kernel.best_params_)\n",
    "\n",
    "print(\"Score with best parameters:\")\n",
    "# ADD CODE\n",
    "print(linear_kernel.best_score_)\n",
    "\n",
    "print(\"\\nAll scores on the grid:\")\n",
    "# ADD CODE\n",
    "#print(\"Mean test scores: \", linear_kernel.cv_results_['mean_test_score'])\n",
    "params = linear_kernel.cv_results_['params']\n",
    "scores = linear_kernel.cv_results_['mean_test_score']\n",
    "results = [{'C' : value['C'], 'score' : scores[index]} for index, value in enumerate(params)]\n",
    "display(pandas.DataFrame(results).T)\n",
    "\n",
    "# parameters for poly with degree 2 kernel\n",
    "parameters = {'C': [1, 10, 100],'gamma':[0.01,0.1,1.]}\n",
    "\n",
    "#run SVM with poly of degree 2 kernel\n",
    "poly2_SVM = SVC(kernel='poly',degree=2)\n",
    "\n",
    "# ADD CODE: DO THE SAME AS ABOVE FOR POLYNOMIAL KERNEL WITH DEGREE=2\n",
    "poly2_kernel = GridSearchCV(poly2_SVM, parameters)\n",
    "\n",
    "poly2_kernel.fit(X_train, y_train)\n",
    "\n",
    "print ('\\nRESULTS FOR POLY DEGREE=2 KERNEL\\n')\n",
    "\n",
    "print(\"Best parameters set found:\")\n",
    "# ADD CODE\n",
    "print(poly2_kernel.best_params_)\n",
    "\n",
    "print(\"Score with best parameters:\")\n",
    "# ADD CODE\n",
    "print(poly2_kernel.best_score_)\n",
    "\n",
    "print(\"\\nAll scores on the grid:\")\n",
    "# ADD CODE\n",
    "#print(\"Mean test scores: \", poly2_kernel.cv_results_['mean_test_score'])\n",
    "params = poly2_kernel.cv_results_['params']\n",
    "scores = poly2_kernel.cv_results_['mean_test_score']\n",
    "results = [{'C' : value['C'], 'gamma' : value['gamma'], 'score' : scores[index]} for index, value in enumerate(params)]\n",
    "display(pandas.DataFrame(results).T)\n",
    "\n",
    "# parameters for rbf SVM\n",
    "parameters = {'C': [1, 10, 100],'gamma':[0.01,0.1,1.]}\n",
    "\n",
    "#run SVM with rbf kernel\n",
    "rbf_SVM = SVC(kernel='rbf')\n",
    "\n",
    "# ADD CODE: DO THE SAME AS ABOVE FOR RBF KERNEL\n",
    "\n",
    "rbf_kernel = GridSearchCV(rbf_SVM, parameters)\n",
    "\n",
    "rbf_kernel.fit(X_train, y_train)\n",
    "\n",
    "print ('\\nRESULTS FOR rbf KERNEL\\n')\n",
    "\n",
    "print(\"Best parameters set found:\")\n",
    "# ADD CODE\n",
    "print(rbf_kernel.best_params_)\n",
    "\n",
    "print(\"Score with best parameters:\")\n",
    "# ADD CODE\n",
    "print(rbf_kernel.best_score_)\n",
    "\n",
    "print(\"\\nAll scores on the grid:\")\n",
    "# ADD CODE\n",
    "#print(\"Mean test scores: \", rbf_kernel.cv_results_['mean_test_score'])\n",
    "params = rbf_kernel.cv_results_['params']\n",
    "scores = rbf_kernel.cv_results_['mean_test_score']\n",
    "results = [{'C' : value['C'], 'gamma' : value['gamma'], 'score' : scores[index]} for index, value in enumerate(params)]\n",
    "display(pandas.DataFrame(results).T)"
   ]
  },
  {
   "cell_type": "markdown",
   "metadata": {},
   "source": [
    "## Model training on the best SVM founded and computuing its errors"
   ]
  },
  {
   "cell_type": "code",
   "execution_count": 16,
   "metadata": {},
   "outputs": [
    {
     "name": "stdout",
     "output_type": "stream",
     "text": [
      "Best SVM chosen: kernel=rbf, C=100, gamma=0.01\n",
      "Best SVM training error: 0.000000\n",
      "Best SVM test error: 0.080478\n"
     ]
    }
   ],
   "source": [
    "#get training and test error for the best SVM model from CV\n",
    "scores_SVM = [linear_kernel.best_score_, poly2_kernel.best_score_, rbf_kernel.best_score_]\n",
    "kernels_SVM = [linear_kernel, poly2_kernel, rbf_kernel]\n",
    "\n",
    "best = np.argmax(scores_SVM)\n",
    "params = kernels_SVM[best].best_estimator_.get_params()\n",
    "print(\"Best SVM chosen: \" +\n",
    "      \"kernel=\" + str(params['kernel']) + \n",
    "      \", C=\" + str(params['C']) +\n",
    "      \", gamma=\" + str(params[\"gamma\"]))\n",
    "\n",
    "best_SVM = kernels_SVM[best].best_estimator_ # ADD CODE\n",
    "\n",
    "# fit the model on the entire training set\n",
    "# ADD CODE\n",
    "best_SVM.fit(X_train, y_train)\n",
    "\n",
    "#get the training and test error\n",
    "training_error = 1. - best_SVM.score(X_train,y_train)\n",
    "test_error = 1. - best_SVM.score(X_test,y_test)\n",
    "\n",
    "print (\"Best SVM training error: %f\" % training_error)\n",
    "print (\"Best SVM test error: %f\" % test_error)"
   ]
  },
  {
   "cell_type": "markdown",
   "metadata": {},
   "source": [
    "## Use logistic regression for comparison\n",
    "\n",
    "Training model on regular logistic regression first and then with 5-fold cross validation"
   ]
  },
  {
   "cell_type": "code",
   "execution_count": 17,
   "metadata": {},
   "outputs": [
    {
     "name": "stdout",
     "output_type": "stream",
     "text": [
      "Regular Logistic Regression\n",
      "Best logistic regression training error: 0.000000\n",
      "Best logistic regression test error: 0.138116\n",
      "\n",
      "LR after 5-fold Cross Validation\n",
      "Best logistic regression training error: 0.003000\n",
      "Best logistic regression test error: 0.135362\n"
     ]
    }
   ],
   "source": [
    "lr = linear_model.LogisticRegression(max_iter=1000)\n",
    "# fit the model on the training data\n",
    "# ADD CODE\n",
    "lr.fit(X_train, y_train)\n",
    "\n",
    "#compute training and test error for model above\n",
    "training_error = 1 - lr.score(X_train, y_train) # COMPLETE\n",
    "test_error = 1 - lr.score(X_test, y_test) # COMPLETE\n",
    "print (\"Regular Logistic Regression\")\n",
    "print (\"Best logistic regression training error: %f\" % training_error)\n",
    "print (\"Best logistic regression test error: %f\" % test_error)\n",
    "\n",
    "#logistic regression with 5-fold CV: you can use use linear_model.LogisticRegressionCV\n",
    "# use 5-fold CV to find the best choice of the parameter, than train\n",
    "# the model on the entire training set\n",
    "lr_cv = linear_model.LogisticRegressionCV(cv=5, max_iter=1000).fit(X_train, y_train) # COMPLETE\n",
    "training_error_cv = 1 - lr_cv.score(X_train, y_train) # COMPLETE\n",
    "test_error_cv = 1 - lr_cv.score(X_test, y_test) # COMPLETE\n",
    "\n",
    "print (\"\\nLR after 5-fold Cross Validation\")\n",
    "print (\"Best logistic regression training error: %f\" % training_error_cv)\n",
    "print (\"Best logistic regression test error: %f\" % test_error_cv)"
   ]
  },
  {
   "cell_type": "code",
   "execution_count": 18,
   "metadata": {
    "scrolled": false
   },
   "outputs": [
    {
     "name": "stdout",
     "output_type": "stream",
     "text": [
      "Best C obtained:  0.3593813663804626 \t[due to the default settings is the same for each class]\n"
     ]
    }
   ],
   "source": [
    "#line added to compare the regular LR with the LR trained with CV\n",
    "print(\"Best C obtained: \", lr_cv.C_[0], \"\\t[due to the default settings is the same for each class]\")"
   ]
  },
  {
   "cell_type": "markdown",
   "metadata": {},
   "source": [
    "## Digit missclassified by logistic regression and correctly classified by the \"best\" SVM."
   ]
  },
  {
   "cell_type": "code",
   "execution_count": 19,
   "metadata": {},
   "outputs": [
    {
     "name": "stdout",
     "output_type": "stream",
     "text": [
      "INPUT:\n"
     ]
    },
    {
     "data": {
      "image/png": "[encoded data removed]",
      "text/plain": [
       "<Figure size 432x288 with 1 Axes>"
      ]
     },
     "metadata": {
      "needs_background": "light"
     },
     "output_type": "display_data"
    },
    {
     "name": "stdout",
     "output_type": "stream",
     "text": [
      "LABEL: 9\n",
      "INPUT:\n"
     ]
    },
    {
     "data": {
      "image/png": "[encoded data removed]",
      "text/plain": [
       "<Figure size 432x288 with 1 Axes>"
      ]
     },
     "metadata": {
      "needs_background": "light"
     },
     "output_type": "display_data"
    },
    {
     "name": "stdout",
     "output_type": "stream",
     "text": [
      "LABEL: 4\n"
     ]
    }
   ],
   "source": [
    "# ADD CODE\n",
    "\n",
    "svm_labels = best_SVM.predict(X_test)\n",
    "lr_cv_labels = lr_cv.predict(X_test)\n",
    "for index, value in enumerate(y_test):\n",
    "    if (value != lr_cv_labels[index]) and (value == svm_labels[index]):\n",
    "        plot_digit(X_test, svm_labels, index)\n",
    "        plot_digit(X_test, lr_cv_labels, index)\n",
    "        break"
   ]
  },
  {
   "cell_type": "markdown",
   "metadata": {},
   "source": [
    "## TO DO 7\n",
    "Compare and comment on the differences with the results above.\n",
    "\n",
    "#### ANSWER\n",
    "In terms of numerical results, they are improved by training the model with more samples and, as before, the **best error** on the overall experiment is obtained by the SVM with RBF kernel with a **test error** equals to **8%** and the final results of the linear regression models are quite similar to the SVM with linear kernel, with an error around 13% (as seen in the previous reasoning).\n",
    "\n",
    "However, with 1000 samples there are 2 main differences on the regularization parameter C:\n",
    "1. **SVM with RBF kernel:** C is increased by 100 times (C=10 with 500 samples, C=100 with 1000 samples), this give more weight to the empirical risk rather the hypoteshis complexity\n",
    "2. **LR_CV:** C is drastically decrease from 10000 to 0.36, this means that by training the model with more samples (they are doubled up) the empirical risk is nearly irrelevant and the hypotesis complexity has more importance."
   ]
  }
 ],
 "metadata": {
  "kernelspec": {
   "display_name": "Python 3",
   "language": "python",
   "name": "python3"
  },
  "language_info": {
   "codemirror_mode": {
    "name": "ipython",
    "version": 3
   },
   "file_extension": ".py",
   "mimetype": "text/x-python",
   "name": "python",
   "nbconvert_exporter": "python",
   "pygments_lexer": "ipython3",
   "version": "3.8.8"
  }
 },
 "nbformat": 4,
 "nbformat_minor": 4
}
